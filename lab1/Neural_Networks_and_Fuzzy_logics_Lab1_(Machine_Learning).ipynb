{
  "nbformat": 4,
  "nbformat_minor": 0,
  "metadata": {
    "colab": {
      "name": "Neural Networks and Fuzzy logics Lab1 (Machine Learning)",
      "provenance": [],
      "collapsed_sections": []
    },
    "kernelspec": {
      "display_name": "Python 3",
      "language": "python",
      "name": "python3"
    },
    "language_info": {
      "codemirror_mode": {
        "name": "ipython",
        "version": 3
      },
      "file_extension": ".py",
      "mimetype": "text/x-python",
      "name": "python",
      "nbconvert_exporter": "python",
      "pygments_lexer": "ipython3",
      "version": "3.8.8"
    },
    "widgets": {
      "application/vnd.jupyter.widget-state+json": {
        "309a1ac40f9b4a5197c1f25f42501862": {
          "model_module": "@jupyter-widgets/controls",
          "model_name": "VBoxModel",
          "model_module_version": "1.5.0",
          "state": {
            "_view_name": "VBoxView",
            "_dom_classes": [
              "widget-interact"
            ],
            "_model_name": "VBoxModel",
            "_view_module": "@jupyter-widgets/controls",
            "_model_module_version": "1.5.0",
            "_view_count": null,
            "_view_module_version": "1.5.0",
            "box_style": "",
            "layout": "IPY_MODEL_628749e84d024c84b8d791965a7e9432",
            "_model_module": "@jupyter-widgets/controls",
            "children": [
              "IPY_MODEL_603c79e31c914532999c90236c17ca74",
              "IPY_MODEL_0bbe206c77504dddb35c018811685c05",
              "IPY_MODEL_eead30f49ee74e38aecee2033c83dd73"
            ]
          }
        },
        "628749e84d024c84b8d791965a7e9432": {
          "model_module": "@jupyter-widgets/base",
          "model_name": "LayoutModel",
          "model_module_version": "1.2.0",
          "state": {
            "_view_name": "LayoutView",
            "grid_template_rows": null,
            "right": null,
            "justify_content": null,
            "_view_module": "@jupyter-widgets/base",
            "overflow": null,
            "_model_module_version": "1.2.0",
            "_view_count": null,
            "flex_flow": null,
            "width": null,
            "min_width": null,
            "border": null,
            "align_items": null,
            "bottom": null,
            "_model_module": "@jupyter-widgets/base",
            "top": null,
            "grid_column": null,
            "overflow_y": null,
            "overflow_x": null,
            "grid_auto_flow": null,
            "grid_area": null,
            "grid_template_columns": null,
            "flex": null,
            "_model_name": "LayoutModel",
            "justify_items": null,
            "grid_row": null,
            "max_height": null,
            "align_content": null,
            "visibility": null,
            "align_self": null,
            "height": null,
            "min_height": null,
            "padding": null,
            "grid_auto_rows": null,
            "grid_gap": null,
            "max_width": null,
            "order": null,
            "_view_module_version": "1.2.0",
            "grid_template_areas": null,
            "object_position": null,
            "object_fit": null,
            "grid_auto_columns": null,
            "margin": null,
            "display": null,
            "left": null
          }
        },
        "603c79e31c914532999c90236c17ca74": {
          "model_module": "@jupyter-widgets/controls",
          "model_name": "IntSliderModel",
          "model_module_version": "1.5.0",
          "state": {
            "_view_name": "IntSliderView",
            "style": "IPY_MODEL_367a37823c764b08b944830723db3471",
            "_dom_classes": [],
            "description": "w1",
            "step": 1,
            "_model_name": "IntSliderModel",
            "orientation": "horizontal",
            "max": 10,
            "_view_module": "@jupyter-widgets/controls",
            "_model_module_version": "1.5.0",
            "value": -1,
            "_view_count": null,
            "disabled": false,
            "_view_module_version": "1.5.0",
            "min": -10,
            "continuous_update": true,
            "readout_format": "d",
            "description_tooltip": null,
            "readout": true,
            "_model_module": "@jupyter-widgets/controls",
            "layout": "IPY_MODEL_085c02a1902a4d66be45092ce21f3299"
          }
        },
        "0bbe206c77504dddb35c018811685c05": {
          "model_module": "@jupyter-widgets/controls",
          "model_name": "IntSliderModel",
          "model_module_version": "1.5.0",
          "state": {
            "_view_name": "IntSliderView",
            "style": "IPY_MODEL_80b337e9f3dc4310ad8950364e065b0a",
            "_dom_classes": [],
            "description": "w2",
            "step": 1,
            "_model_name": "IntSliderModel",
            "orientation": "horizontal",
            "max": 10,
            "_view_module": "@jupyter-widgets/controls",
            "_model_module_version": "1.5.0",
            "value": 1,
            "_view_count": null,
            "disabled": false,
            "_view_module_version": "1.5.0",
            "min": -10,
            "continuous_update": true,
            "readout_format": "d",
            "description_tooltip": null,
            "readout": true,
            "_model_module": "@jupyter-widgets/controls",
            "layout": "IPY_MODEL_7ba960dafdd24b4791bbb81934b31c02"
          }
        },
        "eead30f49ee74e38aecee2033c83dd73": {
          "model_module": "@jupyter-widgets/output",
          "model_name": "OutputModel",
          "model_module_version": "1.0.0",
          "state": {
            "_view_name": "OutputView",
            "msg_id": "",
            "_dom_classes": [],
            "_model_name": "OutputModel",
            "outputs": [
              {
                "output_type": "display_data",
                "data": {
                  "image/png": "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\n",
                  "text/plain": "<Figure size 432x288 with 1 Axes>"
                },
                "metadata": {
                  "needs_background": "light"
                }
              }
            ],
            "_view_module": "@jupyter-widgets/output",
            "_model_module_version": "1.0.0",
            "_view_count": null,
            "_view_module_version": "1.0.0",
            "layout": "IPY_MODEL_0723e2b3473c4e2dac120b93ba2561ef",
            "_model_module": "@jupyter-widgets/output"
          }
        },
        "367a37823c764b08b944830723db3471": {
          "model_module": "@jupyter-widgets/controls",
          "model_name": "SliderStyleModel",
          "model_module_version": "1.5.0",
          "state": {
            "_view_name": "StyleView",
            "handle_color": null,
            "_model_name": "SliderStyleModel",
            "description_width": "",
            "_view_module": "@jupyter-widgets/base",
            "_model_module_version": "1.5.0",
            "_view_count": null,
            "_view_module_version": "1.2.0",
            "_model_module": "@jupyter-widgets/controls"
          }
        },
        "085c02a1902a4d66be45092ce21f3299": {
          "model_module": "@jupyter-widgets/base",
          "model_name": "LayoutModel",
          "model_module_version": "1.2.0",
          "state": {
            "_view_name": "LayoutView",
            "grid_template_rows": null,
            "right": null,
            "justify_content": null,
            "_view_module": "@jupyter-widgets/base",
            "overflow": null,
            "_model_module_version": "1.2.0",
            "_view_count": null,
            "flex_flow": null,
            "width": null,
            "min_width": null,
            "border": null,
            "align_items": null,
            "bottom": null,
            "_model_module": "@jupyter-widgets/base",
            "top": null,
            "grid_column": null,
            "overflow_y": null,
            "overflow_x": null,
            "grid_auto_flow": null,
            "grid_area": null,
            "grid_template_columns": null,
            "flex": null,
            "_model_name": "LayoutModel",
            "justify_items": null,
            "grid_row": null,
            "max_height": null,
            "align_content": null,
            "visibility": null,
            "align_self": null,
            "height": null,
            "min_height": null,
            "padding": null,
            "grid_auto_rows": null,
            "grid_gap": null,
            "max_width": null,
            "order": null,
            "_view_module_version": "1.2.0",
            "grid_template_areas": null,
            "object_position": null,
            "object_fit": null,
            "grid_auto_columns": null,
            "margin": null,
            "display": null,
            "left": null
          }
        },
        "80b337e9f3dc4310ad8950364e065b0a": {
          "model_module": "@jupyter-widgets/controls",
          "model_name": "SliderStyleModel",
          "model_module_version": "1.5.0",
          "state": {
            "_view_name": "StyleView",
            "handle_color": null,
            "_model_name": "SliderStyleModel",
            "description_width": "",
            "_view_module": "@jupyter-widgets/base",
            "_model_module_version": "1.5.0",
            "_view_count": null,
            "_view_module_version": "1.2.0",
            "_model_module": "@jupyter-widgets/controls"
          }
        },
        "7ba960dafdd24b4791bbb81934b31c02": {
          "model_module": "@jupyter-widgets/base",
          "model_name": "LayoutModel",
          "model_module_version": "1.2.0",
          "state": {
            "_view_name": "LayoutView",
            "grid_template_rows": null,
            "right": null,
            "justify_content": null,
            "_view_module": "@jupyter-widgets/base",
            "overflow": null,
            "_model_module_version": "1.2.0",
            "_view_count": null,
            "flex_flow": null,
            "width": null,
            "min_width": null,
            "border": null,
            "align_items": null,
            "bottom": null,
            "_model_module": "@jupyter-widgets/base",
            "top": null,
            "grid_column": null,
            "overflow_y": null,
            "overflow_x": null,
            "grid_auto_flow": null,
            "grid_area": null,
            "grid_template_columns": null,
            "flex": null,
            "_model_name": "LayoutModel",
            "justify_items": null,
            "grid_row": null,
            "max_height": null,
            "align_content": null,
            "visibility": null,
            "align_self": null,
            "height": null,
            "min_height": null,
            "padding": null,
            "grid_auto_rows": null,
            "grid_gap": null,
            "max_width": null,
            "order": null,
            "_view_module_version": "1.2.0",
            "grid_template_areas": null,
            "object_position": null,
            "object_fit": null,
            "grid_auto_columns": null,
            "margin": null,
            "display": null,
            "left": null
          }
        },
        "0723e2b3473c4e2dac120b93ba2561ef": {
          "model_module": "@jupyter-widgets/base",
          "model_name": "LayoutModel",
          "model_module_version": "1.2.0",
          "state": {
            "_view_name": "LayoutView",
            "grid_template_rows": null,
            "right": null,
            "justify_content": null,
            "_view_module": "@jupyter-widgets/base",
            "overflow": null,
            "_model_module_version": "1.2.0",
            "_view_count": null,
            "flex_flow": null,
            "width": null,
            "min_width": null,
            "border": null,
            "align_items": null,
            "bottom": null,
            "_model_module": "@jupyter-widgets/base",
            "top": null,
            "grid_column": null,
            "overflow_y": null,
            "overflow_x": null,
            "grid_auto_flow": null,
            "grid_area": null,
            "grid_template_columns": null,
            "flex": null,
            "_model_name": "LayoutModel",
            "justify_items": null,
            "grid_row": null,
            "max_height": null,
            "align_content": null,
            "visibility": null,
            "align_self": null,
            "height": null,
            "min_height": null,
            "padding": null,
            "grid_auto_rows": null,
            "grid_gap": null,
            "max_width": null,
            "order": null,
            "_view_module_version": "1.2.0",
            "grid_template_areas": null,
            "object_position": null,
            "object_fit": null,
            "grid_auto_columns": null,
            "margin": null,
            "display": null,
            "left": null
          }
        },
        "2885880026e9437faa0bddc22b239cac": {
          "model_module": "@jupyter-widgets/controls",
          "model_name": "VBoxModel",
          "model_module_version": "1.5.0",
          "state": {
            "_view_name": "VBoxView",
            "_dom_classes": [
              "widget-interact"
            ],
            "_model_name": "VBoxModel",
            "_view_module": "@jupyter-widgets/controls",
            "_model_module_version": "1.5.0",
            "_view_count": null,
            "_view_module_version": "1.5.0",
            "box_style": "",
            "layout": "IPY_MODEL_772497fa312147cc877d3652b5040901",
            "_model_module": "@jupyter-widgets/controls",
            "children": [
              "IPY_MODEL_c815f13bf510476abc58d042aff82669",
              "IPY_MODEL_42236f1646ed4789a89ce8f6ef2a84be",
              "IPY_MODEL_417a1c6aa02647bca71462caff7c4e4e"
            ]
          }
        },
        "772497fa312147cc877d3652b5040901": {
          "model_module": "@jupyter-widgets/base",
          "model_name": "LayoutModel",
          "model_module_version": "1.2.0",
          "state": {
            "_view_name": "LayoutView",
            "grid_template_rows": null,
            "right": null,
            "justify_content": null,
            "_view_module": "@jupyter-widgets/base",
            "overflow": null,
            "_model_module_version": "1.2.0",
            "_view_count": null,
            "flex_flow": null,
            "width": null,
            "min_width": null,
            "border": null,
            "align_items": null,
            "bottom": null,
            "_model_module": "@jupyter-widgets/base",
            "top": null,
            "grid_column": null,
            "overflow_y": null,
            "overflow_x": null,
            "grid_auto_flow": null,
            "grid_area": null,
            "grid_template_columns": null,
            "flex": null,
            "_model_name": "LayoutModel",
            "justify_items": null,
            "grid_row": null,
            "max_height": null,
            "align_content": null,
            "visibility": null,
            "align_self": null,
            "height": null,
            "min_height": null,
            "padding": null,
            "grid_auto_rows": null,
            "grid_gap": null,
            "max_width": null,
            "order": null,
            "_view_module_version": "1.2.0",
            "grid_template_areas": null,
            "object_position": null,
            "object_fit": null,
            "grid_auto_columns": null,
            "margin": null,
            "display": null,
            "left": null
          }
        },
        "c815f13bf510476abc58d042aff82669": {
          "model_module": "@jupyter-widgets/controls",
          "model_name": "IntSliderModel",
          "model_module_version": "1.5.0",
          "state": {
            "_view_name": "IntSliderView",
            "style": "IPY_MODEL_aaa3f82689e34dc5ac39fa5a94b21dc1",
            "_dom_classes": [],
            "description": "w1",
            "step": 1,
            "_model_name": "IntSliderModel",
            "orientation": "horizontal",
            "max": 10,
            "_view_module": "@jupyter-widgets/controls",
            "_model_module_version": "1.5.0",
            "value": -1,
            "_view_count": null,
            "disabled": false,
            "_view_module_version": "1.5.0",
            "min": -10,
            "continuous_update": true,
            "readout_format": "d",
            "description_tooltip": null,
            "readout": true,
            "_model_module": "@jupyter-widgets/controls",
            "layout": "IPY_MODEL_598dd55500bc4f0b8c7e0087b88c8779"
          }
        },
        "42236f1646ed4789a89ce8f6ef2a84be": {
          "model_module": "@jupyter-widgets/controls",
          "model_name": "IntSliderModel",
          "model_module_version": "1.5.0",
          "state": {
            "_view_name": "IntSliderView",
            "style": "IPY_MODEL_e2e1ab562f05484a81edbd65d6030208",
            "_dom_classes": [],
            "description": "w2",
            "step": 1,
            "_model_name": "IntSliderModel",
            "orientation": "horizontal",
            "max": 10,
            "_view_module": "@jupyter-widgets/controls",
            "_model_module_version": "1.5.0",
            "value": 1,
            "_view_count": null,
            "disabled": false,
            "_view_module_version": "1.5.0",
            "min": -10,
            "continuous_update": true,
            "readout_format": "d",
            "description_tooltip": null,
            "readout": true,
            "_model_module": "@jupyter-widgets/controls",
            "layout": "IPY_MODEL_b3beacd5a897427f99eeacd69113b686"
          }
        },
        "417a1c6aa02647bca71462caff7c4e4e": {
          "model_module": "@jupyter-widgets/output",
          "model_name": "OutputModel",
          "model_module_version": "1.0.0",
          "state": {
            "_view_name": "OutputView",
            "msg_id": "",
            "_dom_classes": [],
            "_model_name": "OutputModel",
            "outputs": [
              {
                "output_type": "display_data",
                "data": {
                  "image/png": "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\n",
                  "text/plain": "<Figure size 432x288 with 1 Axes>"
                },
                "metadata": {
                  "needs_background": "light"
                }
              },
              {
                "output_type": "display_data",
                "data": {
                  "application/vnd.google.colaboratory.intrinsic+json": {
                    "type": "string"
                  },
                  "text/plain": "'loss = 1.0333884744895951'"
                },
                "metadata": {}
              }
            ],
            "_view_module": "@jupyter-widgets/output",
            "_model_module_version": "1.0.0",
            "_view_count": null,
            "_view_module_version": "1.0.0",
            "layout": "IPY_MODEL_efce41a25432478aa7a85024088c4c37",
            "_model_module": "@jupyter-widgets/output"
          }
        },
        "aaa3f82689e34dc5ac39fa5a94b21dc1": {
          "model_module": "@jupyter-widgets/controls",
          "model_name": "SliderStyleModel",
          "model_module_version": "1.5.0",
          "state": {
            "_view_name": "StyleView",
            "handle_color": null,
            "_model_name": "SliderStyleModel",
            "description_width": "",
            "_view_module": "@jupyter-widgets/base",
            "_model_module_version": "1.5.0",
            "_view_count": null,
            "_view_module_version": "1.2.0",
            "_model_module": "@jupyter-widgets/controls"
          }
        },
        "598dd55500bc4f0b8c7e0087b88c8779": {
          "model_module": "@jupyter-widgets/base",
          "model_name": "LayoutModel",
          "model_module_version": "1.2.0",
          "state": {
            "_view_name": "LayoutView",
            "grid_template_rows": null,
            "right": null,
            "justify_content": null,
            "_view_module": "@jupyter-widgets/base",
            "overflow": null,
            "_model_module_version": "1.2.0",
            "_view_count": null,
            "flex_flow": null,
            "width": null,
            "min_width": null,
            "border": null,
            "align_items": null,
            "bottom": null,
            "_model_module": "@jupyter-widgets/base",
            "top": null,
            "grid_column": null,
            "overflow_y": null,
            "overflow_x": null,
            "grid_auto_flow": null,
            "grid_area": null,
            "grid_template_columns": null,
            "flex": null,
            "_model_name": "LayoutModel",
            "justify_items": null,
            "grid_row": null,
            "max_height": null,
            "align_content": null,
            "visibility": null,
            "align_self": null,
            "height": null,
            "min_height": null,
            "padding": null,
            "grid_auto_rows": null,
            "grid_gap": null,
            "max_width": null,
            "order": null,
            "_view_module_version": "1.2.0",
            "grid_template_areas": null,
            "object_position": null,
            "object_fit": null,
            "grid_auto_columns": null,
            "margin": null,
            "display": null,
            "left": null
          }
        },
        "e2e1ab562f05484a81edbd65d6030208": {
          "model_module": "@jupyter-widgets/controls",
          "model_name": "SliderStyleModel",
          "model_module_version": "1.5.0",
          "state": {
            "_view_name": "StyleView",
            "handle_color": null,
            "_model_name": "SliderStyleModel",
            "description_width": "",
            "_view_module": "@jupyter-widgets/base",
            "_model_module_version": "1.5.0",
            "_view_count": null,
            "_view_module_version": "1.2.0",
            "_model_module": "@jupyter-widgets/controls"
          }
        },
        "b3beacd5a897427f99eeacd69113b686": {
          "model_module": "@jupyter-widgets/base",
          "model_name": "LayoutModel",
          "model_module_version": "1.2.0",
          "state": {
            "_view_name": "LayoutView",
            "grid_template_rows": null,
            "right": null,
            "justify_content": null,
            "_view_module": "@jupyter-widgets/base",
            "overflow": null,
            "_model_module_version": "1.2.0",
            "_view_count": null,
            "flex_flow": null,
            "width": null,
            "min_width": null,
            "border": null,
            "align_items": null,
            "bottom": null,
            "_model_module": "@jupyter-widgets/base",
            "top": null,
            "grid_column": null,
            "overflow_y": null,
            "overflow_x": null,
            "grid_auto_flow": null,
            "grid_area": null,
            "grid_template_columns": null,
            "flex": null,
            "_model_name": "LayoutModel",
            "justify_items": null,
            "grid_row": null,
            "max_height": null,
            "align_content": null,
            "visibility": null,
            "align_self": null,
            "height": null,
            "min_height": null,
            "padding": null,
            "grid_auto_rows": null,
            "grid_gap": null,
            "max_width": null,
            "order": null,
            "_view_module_version": "1.2.0",
            "grid_template_areas": null,
            "object_position": null,
            "object_fit": null,
            "grid_auto_columns": null,
            "margin": null,
            "display": null,
            "left": null
          }
        },
        "efce41a25432478aa7a85024088c4c37": {
          "model_module": "@jupyter-widgets/base",
          "model_name": "LayoutModel",
          "model_module_version": "1.2.0",
          "state": {
            "_view_name": "LayoutView",
            "grid_template_rows": null,
            "right": null,
            "justify_content": null,
            "_view_module": "@jupyter-widgets/base",
            "overflow": null,
            "_model_module_version": "1.2.0",
            "_view_count": null,
            "flex_flow": null,
            "width": null,
            "min_width": null,
            "border": null,
            "align_items": null,
            "bottom": null,
            "_model_module": "@jupyter-widgets/base",
            "top": null,
            "grid_column": null,
            "overflow_y": null,
            "overflow_x": null,
            "grid_auto_flow": null,
            "grid_area": null,
            "grid_template_columns": null,
            "flex": null,
            "_model_name": "LayoutModel",
            "justify_items": null,
            "grid_row": null,
            "max_height": null,
            "align_content": null,
            "visibility": null,
            "align_self": null,
            "height": null,
            "min_height": null,
            "padding": null,
            "grid_auto_rows": null,
            "grid_gap": null,
            "max_width": null,
            "order": null,
            "_view_module_version": "1.2.0",
            "grid_template_areas": null,
            "object_position": null,
            "object_fit": null,
            "grid_auto_columns": null,
            "margin": null,
            "display": null,
            "left": null
          }
        }
      }
    }
  },
  "cells": [
    {
      "cell_type": "markdown",
      "metadata": {
        "id": "SB0EeXzyu_sz"
      },
      "source": [
        "# Machine Learning Basics"
      ]
    },
    {
      "cell_type": "markdown",
      "metadata": {
        "id": "c9tLLZUyVwcV"
      },
      "source": [
        "## Introduction\n",
        "In this practical, we introduce the idea of classification (sorting things into categories) using a machine-learning model. We explore the relationship between a classifier's parameters and the decision boundary (a line that separates categories) and also introduce the idea of a loss function. Finally, we briefly introduce Tensorflow.\n",
        "\n",
        "## Learning Objectives \n",
        "* Understand the idea of **classification**\n",
        "* Understand the concept of (linear) **separability** of a dataset.\n",
        "* Understand what the **parameters** of a classifier are and how they relate to the **decision boundary**\n",
        "* Be able to briefly explain what **Tensorflow** is."
      ]
    },
    {
      "cell_type": "code",
      "metadata": {
        "id": "mHlHxAdBu7Dy"
      },
      "source": [
        "#@title [RUN ME!] Imports { display-mode: \"form\" }\n",
        "\n",
        "from __future__ import absolute_import, division, print_function\n",
        "\n",
        "import tensorflow as tf\n",
        "import numpy as np                 # Numpy is an efficient linear algebra library.\n",
        "import matplotlib.pyplot as plt    # Matplotlib is used to generate plots of data.\n",
        "from matplotlib import animation, rc\n",
        "\n",
        "from IPython import display\n",
        "\n",
        "from ipywidgets import interact, interactive, fixed, interact_manual, IntSlider\n",
        "import ipywidgets as widgets\n",
        "\n",
        "# try:\n",
        "#     tf.enable_eager_execution() # deprecated!! tensorflow works in eager mode by defualt now\n",
        "#     print('Running eagerly')\n",
        "# except ValueError:\n",
        "#     print('Already running eagerly')\n",
        "  \n",
        "# tfe = tf.contrib.eager # deprecated!! stuff tensorflow has no attribute contrib\n",
        "\n",
        "%matplotlib inline"
      ],
      "execution_count": null,
      "outputs": []
    },
    {
      "cell_type": "markdown",
      "metadata": {
        "id": "1xhQkS8A_KrJ"
      },
      "source": [
        "## Outline\n",
        "In this practical, we tackle the task of **classification** of a simple, synthetic dataset. Classification in machine learning involves learning a labelling of examples into one (or more) discrete categories. This differs from another common task in machine learning called **regression**, which involves learning a mapping from inputs to a continuous-valued output. \n",
        "\n",
        "1. We begin by introducing a synthetic dataset of red and blue points which we want to separate\n",
        "2. We introduce and explore the idea of **linear seperability**\n",
        "3. We define a **loss** as a measure of how good of a seperator a particular line is\n",
        "4. We briefly introduce TensorFlow and show how it can be used to automatically find the minimum of a loss function."
      ]
    },
    {
      "cell_type": "code",
      "metadata": {
        "id": "H020s1EsB_9p"
      },
      "source": [
        "def plot_dataset(inputs, labels, ax): \n",
        "  ax.scatter(\n",
        "      inputs[:, 0], inputs[:, 1], \n",
        "      c=['red' if label > 0 else 'blue' for label in labels])\n",
        "\n",
        "  ax.axis('equal')\n",
        "\n",
        "  ax.set_xlabel('x1')\n",
        "  ax.set_ylabel('x2')"
      ],
      "execution_count": null,
      "outputs": []
    },
    {
      "cell_type": "markdown",
      "metadata": {
        "id": "3l1rLP3HufZv"
      },
      "source": [
        "## The Data"
      ]
    },
    {
      "cell_type": "markdown",
      "metadata": {
        "id": "FCu4YZy-uj0v"
      },
      "source": [
        "Run the code in the cell below, and look at the resulting plot. It should produce a simple 2-D data set consisting of 2 classes of points, the classes are represented by colours blue and red. Our task is to build a **binary classifier** that can distinguish between red and blue points (red and blue are referred to as the **classes** of the points), using only the 2-D coordinates of a point. In other words, we want a function that takes as input a 2-D vector representing the coordinates of a point and returns a value of 1 or 0 indicating whether the point is red or blue. Here we have **encoded** the colours red and blue into the numbers 1 and 0 (which make it easier to work with in maths and code!)\n",
        "\n",
        "Note: we have arbitrarily encoded red as 1 and blue as 0, you could do it the other way around too as long as you're consistent!"
      ]
    },
    {
      "cell_type": "code",
      "metadata": {
        "id": "2SrsrFSTtrl6",
        "colab": {
          "base_uri": "https://localhost:8080/",
          "height": 279
        },
        "outputId": "5d93bcf0-e0eb-4305-dbbd-b2f968cdb02e"
      },
      "source": [
        "#@title Generate the Dataset  {run: \"auto\"}\n",
        "# Define the centre(s) of the points\n",
        "centre = 2   #@param {type:\"slider\", min:0, max:2, step:0.1}\n",
        "\n",
        "points_in_class = 40  # How many points we want per class\n",
        "\n",
        "# A fixed random seed is a common \"trick\" used in ML that allows us to recreate\n",
        "# the same data when there is a random element involved. \n",
        "np.random.seed(0)  \n",
        "\n",
        "# Generate random points in the \"red\" class\n",
        "red_inputs = np.random.normal(loc=centre, scale=1.0, size=[points_in_class, 2])     \n",
        "# Generate random points in the \"blue\" class\n",
        "blue_inputs = np.random.normal(loc=-centre, scale=1.0, size=[points_in_class, 2])    \n",
        "# Put these together\n",
        "inputs = np.concatenate((red_inputs, blue_inputs), axis=0) \n",
        "    \n",
        "# The class (label) is 1 for red or 0 for blue\n",
        "red_labels = np.ones(points_in_class)    \n",
        "blue_labels = np.zeros(points_in_class)\n",
        "labels = np.concatenate((red_labels, blue_labels), axis=0)\n",
        "\n",
        "# num_data_points is the total data set size\n",
        "num_data_points = 2 * points_in_class\n",
        "\n",
        "plot_dataset(inputs, labels, plt.axes())"
      ],
      "execution_count": null,
      "outputs": [
        {
          "output_type": "display_data",
          "data": {
            "image/png": "[encoded data removed]",
            "text/plain": [
              "<Figure size 432x288 with 1 Axes>"
            ]
          },
          "metadata": {
            "needs_background": "light"
          }
        }
      ]
    },
    {
      "cell_type": "markdown",
      "metadata": {
        "id": "an9GF8nZWS4K"
      },
      "source": [
        "###What does the data look like? \n",
        "The inputs are 2-dimensional vectors (points in a 2-D space). Here are the coordinates of 4 points, which we've deliberately chosen so that points 1 and 2 are \"red\" and points 3 and 4 are \"blue\". "
      ]
    },
    {
      "cell_type": "code",
      "metadata": {
        "id": "5f8M-vQYWUuI",
        "colab": {
          "base_uri": "https://localhost:8080/"
        },
        "outputId": "8218cfec-a42b-4794-ab13-7ab57f130030"
      },
      "source": [
        "print('Input 1:\\t', inputs[0])\n",
        "print('Input 2:\\t', inputs[1])\n",
        "\n",
        "print('Input 3:\\t', inputs[-1])\n",
        "print('Input 4:\\t', inputs[-2])"
      ],
      "execution_count": null,
      "outputs": [
        {
          "output_type": "stream",
          "name": "stdout",
          "text": [
            "Input 1:\t [3.76405235 2.40015721]\n",
            "Input 2:\t [2.97873798 4.2408932 ]\n",
            "Input 3:\t [-3.14746865 -2.43782004]\n",
            "Input 4:\t [-0.87336408 -3.07993151]\n"
          ]
        }
      ]
    },
    {
      "cell_type": "markdown",
      "metadata": {
        "id": "E14elwRYWoxB"
      },
      "source": [
        "The labels are either 0 or 1. Here are the labels corresponding to the points above:"
      ]
    },
    {
      "cell_type": "code",
      "metadata": {
        "id": "q4EJG8g4Wtih",
        "colab": {
          "base_uri": "https://localhost:8080/"
        },
        "outputId": "7aec0168-b2ea-4883-ef58-e8273de52994"
      },
      "source": [
        "print('Label 1:\\t', labels[0])\n",
        "print('Label 2:\\t', labels[1])\n",
        "\n",
        "print('Label 3:\\t', labels[-1])\n",
        "print('Label 4:\\t', labels[-2])"
      ],
      "execution_count": null,
      "outputs": [
        {
          "output_type": "stream",
          "name": "stdout",
          "text": [
            "Label 1:\t 1.0\n",
            "Label 2:\t 1.0\n",
            "Label 3:\t 0.0\n",
            "Label 4:\t 0.0\n"
          ]
        }
      ]
    },
    {
      "cell_type": "markdown",
      "metadata": {
        "id": "RyJ1PgtEFpa7"
      },
      "source": [
        "### Aside: Other Examples of Binary Classification Problems"
      ]
    },
    {
      "cell_type": "markdown",
      "metadata": {
        "id": "7LAhNs_GFwOZ"
      },
      "source": [
        "In this practical, we are using a synthetic dataset where we have 2 classes of 2-D points that come from different distributions, distinguised by the colours, red and blue. To make this more concrete, here are some examples of more real-world binary classification problems.\n",
        "\n",
        "* Determine whether an email message (input) is SPAM or NOT SPAM (label)\n",
        "* Determine whether an image, represented by its encoded pixel values (input) is a picture of a DOG or a CAT (label)\n",
        "* Determine whether energy usage of a building will go UP or DOWN (label) next month, using a time series of past energy usage values (input)\n"
      ]
    },
    {
      "cell_type": "markdown",
      "metadata": {
        "id": "qNuMy1XwIJ-z"
      },
      "source": [
        "## Linear separability\n",
        "\n",
        "***Linear separability of a D-dimensional dataset with 2 classes means that there exists a single (D-1)-dimensional (hyper-plane) that separates the classes (a hyperplane is a generalisation of a straight line to many dimensions)***. In this case, the dataset is 2-dimensional and is **linearly separable** if it is possible to draw a (1-D) line between the red and blue points such that all of the red points lie on one side of the line and all of the blue points on the other. \n",
        "\n",
        "### Exploratory Task\n",
        "In the code cell under the heading \"The Data\", change the slider for the ```centre``` value. This will automatically update the value in the code and will redraw the plot.\n",
        "\n",
        "* At what value of centre does the dataset become linearly separable?\n",
        "\n",
        "\n",
        "### **Question for discussion**\n",
        "Can you think of some 2-D, 2-class datasets, similar to the one above, that are separable (the points from the 2 classes don't overlap each other), but are not **linearly** separable? Draw some examples on paper or plot them using Matplotlib and discuss this with your neighbour and tutors. \n",
        "\n"
      ]
    },
    {
      "cell_type": "markdown",
      "metadata": {
        "id": "GV5plkAowLy8"
      },
      "source": [
        "## Drawing the line\n",
        "\n",
        "As you may recall from school, a line in 2 dimensions, with coordinate axes $x_1$ and $x_2$, which passes through the origin (0, 0) can be represented by the equation $w_1x_1 + w_2x_2 = 0$\n",
        "\n",
        "We can also write this in vector form as: $\\mathbf{w}^T\\mathbf{x} = 0$, where $\\mathbf{w}^T = [w_1, w_2]$ and $\\mathbf{x}^T = [x_1, x_2]$.\n",
        "\n",
        "When a line (or hyperplane) is defined this way, we call the **parameters**, $\\mathbf{w} = (w_1, w_2)$ a **normal vector** for the line. The normal vector is orthogonal (perpendicular) to the line. We want to construct such a line that separates red and blue  points, which we will call a **decision boundary**. \n",
        "\n",
        "In the following cell, we plot our dataset along with a normal vector $\\mathbf{w}$ and decision boundary. You can adjust the values of $w_1$ and $w_2$ by using the sliders on the right. Observe the effect that the values have on the normal vector drawn in *red* and decision boundary in *black*. Adjust the values so that the black line separates the blue and red points (i.e. red points on one side and blue on the other). Your line should also have the normal vector pointing in the direction of the red points. The reason that direction is significant is that we want to eventually **classify** points on one side of the line as being red and the other as being blue. \n",
        "\n",
        "Is it possible to find a line through the origin that perfectly separates the points?\n",
        "\n",
        "**Note**: Each of our inputs is a 2-D vector, made up of two coordinate values. We refer to these 2 coordinate axes as $x_1$ and $x_2$. For example, if we have an input $(1, 2)$, then we would say $x_1 = 1$ and $x_2 = 2$ for that point."
      ]
    },
    {
      "cell_type": "code",
      "metadata": {
        "id": "TAXUNshcvPsg",
        "colab": {
          "base_uri": "https://localhost:8080/",
          "height": 364,
          "referenced_widgets": [
            "309a1ac40f9b4a5197c1f25f42501862",
            "628749e84d024c84b8d791965a7e9432",
            "603c79e31c914532999c90236c17ca74",
            "0bbe206c77504dddb35c018811685c05",
            "eead30f49ee74e38aecee2033c83dd73",
            "367a37823c764b08b944830723db3471",
            "085c02a1902a4d66be45092ce21f3299",
            "80b337e9f3dc4310ad8950364e065b0a",
            "7ba960dafdd24b4791bbb81934b31c02",
            "0723e2b3473c4e2dac120b93ba2561ef"
          ]
        },
        "outputId": "df5237c7-c8f7-4bc0-9ef9-bec9e78f997a"
      },
      "source": [
        "def visualize_sepration_line(w1, w2):\n",
        "    ax = plt.axes()\n",
        "    plot_dataset(inputs, labels, ax)\n",
        "\n",
        "    # Add the weight vector to the plot. We plot it in red, as it has to \"point\"\n",
        "    # in the direction of the red points.\n",
        "    ax.arrow(0, 0, w1, w2, head_width=0.3, head_length=0.3, fc='r', ec='r')\n",
        "\n",
        "    # Plot part of the decision boundary in black. It is orthogonal to the weight\n",
        "    # vector.\n",
        "    t = 2\n",
        "    plt.plot([-t * w2, t * w2], [t * w1, -t * w1], 'k-')\n",
        "\n",
        "    plt.xlim([-4, 4])\n",
        "    plt.ylim([-4, 4])\n",
        "\n",
        "    plt.show()\n",
        "    \n",
        "w1Slider = IntSlider(min=-10, max=10, step=1, value=-1)\n",
        "w2Slider = IntSlider(min=-10, max=10, step=1, value=1)\n",
        "#the Inslider()\n",
        "interact(visualize_sepration_line, w1=w1Slider, w2=w2Slider)\n",
        "#the interact function from the iwigits library\n",
        "#takes three arguments\n",
        "#the first one is a function which depends on the two other parameters\n"
      ],
      "execution_count": null,
      "outputs": [
        {
          "output_type": "display_data",
          "data": {
            "application/vnd.jupyter.widget-view+json": {
              "model_id": "309a1ac40f9b4a5197c1f25f42501862",
              "version_minor": 0,
              "version_major": 2
            },
            "text/plain": [
              "interactive(children=(IntSlider(value=-1, description='w1', max=10, min=-10), IntSlider(value=1, description='…"
            ]
          },
          "metadata": {}
        },
        {
          "output_type": "execute_result",
          "data": {
            "text/plain": [
              "<function __main__.visualize_sepration_line>"
            ]
          },
          "metadata": {},
          "execution_count": 6
        }
      ]
    },
    {
      "cell_type": "markdown",
      "metadata": {
        "id": "igAjsyMldbMr"
      },
      "source": [
        "## Classification\n",
        "Given a normal vector $\\mathbf{w}$, we can evaluate which side of the decision boundary a particular point $\\mathbf{x_i} = (x_{i,1}, x_{i, 2})$ lies by evaluating $\\mathbf{w^Tx_i}$. If $\\mathbf{w^Tx_i} > 0$, the point $\\mathbf{x_i}$ lies to one side of the boundary (in the direction of the normal vector), and we can classify that point as belonging to class 1 (in our case, \"red\"). If $\\mathbf{w^Tx_i} < 0$ the point lies on the other side and can be classified as class 0 (in our case, \"blue\"). Finally if $\\mathbf{w^Tx_i} = 0$ the point lies on the decision boundary and we can decide whether to classify it as either 0 or 1, or ignore it. "
      ]
    },
    {
      "cell_type": "markdown",
      "metadata": {
        "id": "jqW7RpSTaRZH"
      },
      "source": [
        "## How \"good\" is the line?\n",
        "\n",
        "If you've played around with the above code, you may have developed some intuition around how different settings of the parameters influence the final placement of the decision boundary. \n",
        "\n",
        "The purpose of machine learning is to *automatically* adjust the values of $w_1$ and $w_2$ to find a suitable decision boundary! But to do this, we need to mathematically specify some **loss** or **objective** function. \n",
        "\n",
        "The loss is a function of the parameters $w_1$ and $w_2$ and tells us how good a certain configuration of the parameter values are at classifying the data. This function is defined such that it reaches its optimum setting when it is minimised, i.e. the *smaller* its value, the *better* the separation between the classes. An additional property a loss function can have that is often crucial for machine learning is being *differentiable*. A differentiable loss function allows us to use *gradient-based optimisation* to find its minimum and the corresponding optimal values of $w_1$ and $w_2$. \n",
        "\n",
        "For this classification problem, we consider the **binary cross-entropy** loss function to measure how good the model's predictions are.  This loss function compares the model's prediction for each example, $\\mathbf{x_i}$ to the true **target** $y_i$ (we often refer to the true label associated with an input as the \"target\"). It then applies the non-linear log function to penalise the model for being further from the true class. The equation for the binary cross entropy loss, on a dataset with $N$ points is:\n",
        "\n",
        "\\begin{align}\n",
        "l(\\mathbf{w}) = -\\frac{1}{N}\\sum_{i=1}^N y_i log(\\hat{y}_i) + (1-y_i)log(1-\\hat{y}_i)\n",
        "\\end{align}\n",
        "\n",
        "The loss is differeniated with repesect to $\\hat{y}$ then with respect to the weights $w$\n",
        "\n",
        "where $\\hat{y}_i = \\operatorname{sigmoid}(\\mathbf{w}^T\\mathbf{x_i})$ and the $\\operatorname{sigmoid}$ function is defined as:\n",
        "\n",
        "$$\n",
        "\\mathrm{sigmoid}(a) = \\frac{1}{\n",
        "  1 + e^{-a}} .\n",
        "$$\n",
        "\n",
        "The reason we use the $\\operatorname{sigmoid}$ function is because our classifier can output any real value. The binary cross entropy loss function, however, expects the predictions made by a classifier to be between $0$ and $1$. The sigmoid function \"squashes\" any real number inputs to lie in the interval $(0, 1)$.\n",
        "\n",
        "Let's now wrap this in a Python function so that we can compute the loss for any values of $w_1$ and $w_2$:\n",
        "\n"
      ]
    },
    {
      "cell_type": "code",
      "metadata": {
        "id": "wKkpBZ6ZWLoF"
      },
      "source": [
        "def compute_loss(w1, w2):\n",
        "  \n",
        "  total_log_likelihood = 0  \n",
        "  \n",
        "  # Add the contrinn  bution of each datapoint to the loss\n",
        "  for (x1, x2), target in zip(inputs, labels):\n",
        "    # As our targets are 0 or 1, our prediction function must output a value between 0 and 1.\n",
        "    # The sigmoid function 'squashes' any value to lie between 0 and 1:\n",
        "    prediction = tf.sigmoid(w1*x1 + w2*x2)  \n",
        "    \n",
        "    # Compute the local loss term\n",
        "    # We add 1e-10 to make the log operations numerically stable (i.e. avoid taking the log of 0.)\n",
        "    log_likelihood = target * tf.math.log(prediction + 1e-10) + (1.-target)*tf.math.log(1.-prediction + 1e-10)\n",
        "    total_log_likelihood += log_likelihood\n",
        "  \n",
        "  loss = -total_log_likelihood\n",
        "  average_loss = loss / len(inputs)\n",
        "  return average_loss\n",
        "\n",
        "def compute_loss_np(w1, w2):\n",
        "  #create the plot and print the loss as numpy arrays\n",
        "    visualize_sepration_line(w1, w2)\n",
        "    return \"loss = \" + str(compute_loss(w1, w2).numpy())\n",
        "    #note compute_loss returns tensor ( float containg gradient and alot of stuff)"
      ],
      "execution_count": null,
      "outputs": []
    },
    {
      "cell_type": "markdown",
      "metadata": {
        "id": "x2P-s50pgj-N"
      },
      "source": [
        "### More on the sigmoid function"
      ]
    },
    {
      "cell_type": "markdown",
      "metadata": {
        "id": "AQqQ_quqwCFF"
      },
      "source": [
        "\n",
        "\n",
        "The sigmoid function is defined as\n",
        "$$\n",
        "\\mathrm{sigmoid}(a) = \\frac{1}{1 + e^{-a}} .\n",
        "$$\n",
        "**Quiz 1:**  show that and draw both of these on a sheet of paper?\n",
        "$$\n",
        "1 - \\mathrm{sigmoid}(a) = \\frac{1}{1 + e^{a}} ,\n",
        "$$\n",
        "**Quiz 2:** find the derivate of simgoid with respect to the weights ?\n",
        "\n",
        "\n",
        "\n",
        "* What is its value when $a = \\mathbf{w}^{T}\\mathbf{x}$ is positive? negative? and zero?\n",
        "* What happends to its value when  $a = \\mathbf{w}^{T}\\mathbf{x}$ becomes larger?\n",
        "* What is the value of $\\mathrm{sigmoid}(\\mathbf{w^Tx})$ when $\\mathbf{w}^T\\mathbf{x} = 0$? How does this change how we classify points on either side of the decision boundary?\n",
        "\n",
        "After working through the above questions, explain to your neighbour why the binary cross-entropy loss function makes sense. \n",
        "\n",
        "**HINT**: Remember the idea of the loss function is to return small values when the classifier makes good predictions and large values when the classifier makes bad predictions. "
      ]
    },
    {
      "cell_type": "markdown",
      "metadata": {
        "id": "0tJJrBynf6ms"
      },
      "source": [
        "## Loss value for your chosen $w_1$ and $w_2$\n"
      ]
    },
    {
      "cell_type": "markdown",
      "metadata": {
        "id": "edKlqlACgFsE"
      },
      "source": [
        "The following line of code computes the loss value for your chosen values of $w_1$ and $w_2$. Try changing the values of $w_1$ and $w_2$ using the sliders above and rerun the line below. Can you see how a better separation results in a lower loss? \n",
        "\n",
        "Note: If you've used TensorFlow before, it might be confusing how this code cell works! We explain more about this later... "
      ]
    },
    {
      "cell_type": "code",
      "metadata": {
        "id": "QyzwKx6ef_Vm",
        "colab": {
          "base_uri": "https://localhost:8080/",
          "height": 382,
          "referenced_widgets": [
            "2885880026e9437faa0bddc22b239cac",
            "772497fa312147cc877d3652b5040901",
            "c815f13bf510476abc58d042aff82669",
            "42236f1646ed4789a89ce8f6ef2a84be",
            "417a1c6aa02647bca71462caff7c4e4e",
            "aaa3f82689e34dc5ac39fa5a94b21dc1",
            "598dd55500bc4f0b8c7e0087b88c8779",
            "e2e1ab562f05484a81edbd65d6030208",
            "b3beacd5a897427f99eeacd69113b686",
            "efce41a25432478aa7a85024088c4c37"
          ]
        },
        "outputId": "3a3bc752-3ae7-4f77-de6f-cc6b348a26c7"
      },
      "source": [
        "w1Slider = IntSlider(min=-10, max=10, step=1, value=-1)\n",
        "w2Slider = IntSlider(min=-10, max=10, step=1, value=1)\n",
        "interact(compute_loss_np, w1=w1Slider, w2=w2Slider)"
      ],
      "execution_count": null,
      "outputs": [
        {
          "output_type": "display_data",
          "data": {
            "application/vnd.jupyter.widget-view+json": {
              "model_id": "2885880026e9437faa0bddc22b239cac",
              "version_minor": 0,
              "version_major": 2
            },
            "text/plain": [
              "interactive(children=(IntSlider(value=-1, description='w1', max=10, min=-10), IntSlider(value=1, description='…"
            ]
          },
          "metadata": {}
        },
        {
          "output_type": "execute_result",
          "data": {
            "text/plain": [
              "<function __main__.compute_loss_np>"
            ]
          },
          "metadata": {},
          "execution_count": 8
        }
      ]
    },
    {
      "cell_type": "markdown",
      "metadata": {
        "id": "Z9KAMYSUgmkM"
      },
      "source": [
        "## Visualising the loss function"
      ]
    },
    {
      "cell_type": "markdown",
      "metadata": {
        "id": "ukphZS4_hMgN"
      },
      "source": [
        "We can visualise the loss function for our dataset by plotting its value at every point in a whole grid of $w_1$ and $w_2$ parameter values. We do this using a **contour plot**, which is a technique for visualising a 3-D function on a 2-D plot by letting colour represent the third dimension. All of the points with the same colour have the same loss value. "
      ]
    },
    {
      "cell_type": "code",
      "metadata": {
        "id": "y4HZS5zZt3Pu",
        "colab": {
          "base_uri": "https://localhost:8080/",
          "height": 295
        },
        "outputId": "7597c2f8-a9ed-48d2-8a5b-4dc43cfdffe8"
      },
      "source": [
        "# We define a function so we can re-use this code later\n",
        "def plot_contours():  \n",
        "  # Generate a whole bunch of (w1, w2) points in a grid\n",
        "  ind = np.linspace(-5, 5, 50)\n",
        "  #divide the ragne from -5 to +5 into 50 points\n",
        "  w1grid, w2grid = np.meshgrid(ind, ind)\n",
        "  #meshgrid because we need all the possible combinations between the points \"ind\" which we generae above\n",
        "\n",
        "  # Compute the loss for each point in the grid\n",
        "  losses = []\n",
        "  for w1s, w2s in zip(w1grid, w2grid):\n",
        "    #zip returns tupple with the values (w1grid, w2grid)\n",
        "    loss = compute_loss(w1s, w2s)\n",
        "    losses.append(loss)\n",
        "\n",
        "  # Pack the loss values for every value of w1 & w2 into one (50,50) array\n",
        "  losses_array = np.concatenate(losses).reshape(50,50)\n",
        "\n",
        "  # Now plot the resulting loss function as a contour plot over the whole grid of (w1, w2) values.\n",
        "  fig = plt.figure()\n",
        "  plt.contourf(w1grid, w2grid, losses_array, 20, cmap=plt.cm.jet)\n",
        "  cbar = plt.colorbar()\n",
        "  cbar.ax.set_ylabel('Binary cross-entropy loss value')\n",
        "  plt.xlabel('w1 value')\n",
        "  plt.ylabel('w2 value')\n",
        "  plt.title('Total loss for different values of w1 and w2')\n",
        "\n",
        "plot_contours()"
      ],
      "execution_count": null,
      "outputs": [
        {
          "output_type": "display_data",
          "data": {
            "image/png": "[encoded data removed]",
            "text/plain": [
              "<Figure size 432x288 with 2 Axes>"
            ]
          },
          "metadata": {
            "needs_background": "light"
          }
        }
      ]
    },
    {
      "cell_type": "markdown",
      "metadata": {
        "id": "676bWBwTiXXD"
      },
      "source": [
        "## Optimising the loss using TensorFlow"
      ]
    },
    {
      "cell_type": "markdown",
      "metadata": {
        "id": "MMLA-wk5xB7p"
      },
      "source": [
        "Now that we have a function that gives us the loss for different values of $w_1$ and $w_2$, we want an automated method to find the values that minimise the loss function.\n",
        "\n",
        " This is where optimisation by **gradient descent** comes in. \n",
        " \n",
        " The idea is that for each (batch of) data points, we compute the loss using the current values of $w_1$ and $w_2$ on the data. We then compute the **gradient** (or derivative) of the loss function at the current values of $w_1$ and $w_2$. The negative of the gradient points in the direction of *steepest descent* along the loss function. By adjusting the values of $w_1$ and $w_2$ in the direction of the negative gradient, we move closer towards the minimum of the loss function (provided the loss function is \"well behaved\"). How big of a step we take is mediated by the **learning rate**. To do this more easily, we will use TensorFlow.\n",
        "\n",
        "***Don't worry if you don't understand what's going on here, you will see this in a lot more in the comming tutorials and labs :-)***\n",
        "\n"
      ]
    },
    {
      "cell_type": "markdown",
      "metadata": {
        "id": "sFJBmN5Hivhv"
      },
      "source": [
        "### Aside: TensorFlow"
      ]
    },
    {
      "cell_type": "markdown",
      "metadata": {
        "id": "DRtDggkBi0X3"
      },
      "source": [
        "TensorFlow (TF) is an open source software library for numerical computation using the concept of Tensors. You can think of Tensors as being a generalisation of matrices to higher dimensions, or roughly equivalent to multi-dimensional arrays. Scalars are 0-dimensional tensors, vectors are 1-dimensional, standard matrices are 2-dimensional, and higher-dimensional tensors have 3 or more dimensions. You can think of dimensions as representing groups of numbers that mean the same thing. For example, for images, we often use 3-dimensional tensors where the first dimension represents the red, green, and blue color channels of the image, and the next two are the columns and rows of pixels of the image. \n",
        "\n",
        "**Note**: Don't be confused when people say \"2-D vector\" or \"3-D vector\", which refers to a 1-dimensional tensor that has size 2 or 3.\n",
        "\n",
        "The major advantage of using TensorFlow is that it can automatically derive the gradients of many mathematical expressions involving tensors. It achieves this through a process called \"automatic differentiation\". Tensorflow also supports multiple \"kernels\", allowing you to easily run your code on normal processors (CPUs), graphics cards (GPUs) and other more exotic hardware accelerators like Google's Tensor Processing Units (TPUs)\n",
        "\n",
        "Tensorflow actually provides **two modes of operation**, the first, called \"graph mode\", builds a computation graph upfront and then feeds data into the graph. By building the graph upfront, Tensorflow can apply optimisations to the graph that allow it to extract peak performance from the hardware you're running on. You will have encountered this mode if you used Tensorflow before or attended the Indaba last year! The second mode, called [\"Eager-mode\"](https://www.tensorflow.org/guide/eager), is a lot newer and evaluates Tensor operations imperatively (in the order you write them), similar to NumPy and PyTorch. Eager-mode is slightly less performant but a lot more intuitive, especially if you've never used a \"define-and-run\" programming style (like graph mode) before, and is therefore the mode we will use in these practicals. "
      ]
    },
    {
      "cell_type": "markdown",
      "metadata": {
        "id": "eLVl2PhK2VpP"
      },
      "source": [
        "### Using Tensorflow to optimise the loss\n",
        "We use TensorFlow to optimise the parameters of the model with gradient descent. We loop over the dataset multiple times (called \"epochs\") and plot the final decision boundary along with a plot showing how the parameters and loss changed over the epochs.\n",
        "\n",
        "**Note**: TensorFlow is probably overkill for this example, becaue the gradient is very easy to calculate, but we introduce it here because it will become essential to calculate the gradients of more complex models in later practicals! "
      ]
    },
    {
      "cell_type": "code",
      "metadata": {
        "id": "cKre-CI8IG9z",
        "colab": {
          "base_uri": "https://localhost:8080/",
          "height": 608
        },
        "outputId": "7642e0e3-b07a-4cac-be5f-e478fb700d37"
      },
      "source": [
        "lr = 0.25  # The learning rate\n",
        "\n",
        "# Initialise Tensorflow variables representing our parameters.\n",
        "# We need to use TensorFlow variables here rather than Numpy or Python ones so \n",
        "# that TensorFlow is able to compute gradients.\n",
        "w1 = tf.Variable(-2.0)  \n",
        "w2 = tf.Variable(-4.0)  \n",
        "\n",
        "plot_contours()\n",
        "#the plot function above\n",
        "\n",
        "# Loop over the dataset multiple times\n",
        "w1_values = []\n",
        "w2_values = []\n",
        "EPOCHS = 100\n",
        "for epoch in range(EPOCHS):\n",
        "  plt.scatter(w1.numpy(), w2.numpy(), marker='o', color='black')\n",
        "  w1_values.append(w1.numpy())\n",
        "  w2_values.append(w2.numpy())\n",
        "  \n",
        "  with tf.GradientTape() as tape:\n",
        "    loss = compute_loss(w1, w2)\n",
        "  \n",
        "    # Now we take a step in parameter space in the direction of the gradient to move the parameters closer (hopefully!) to their optimum\n",
        "    dw1, dw2 = tape.gradient(loss, [w1, w2])\n",
        "    #gradient tape is a recording of gradients, show all the derivates done using this variable\n",
        "    #we want to findout the gradeint of the loss-function depending on w1 and w2\n",
        "    #create two derivate variables dw1= dloss/dw1 and dw2 = dloss/dw2\n",
        "    \n",
        "    # Step 'lr units' in the direction of the negative gradient\n",
        "    # We achieve this by subtracting lr * dw1 and lr * dw2 from the w1 and w2 variables\n",
        "    w1.assign_sub(lr*dw1)\n",
        "    #assign_sub is the learning rule ==> w1 = w1 - learning_rate * derivative\n",
        "    # minus the derivate because we are moving in the backward direction from the Gradient - slope - to reduce the error\n",
        "    w2.assign_sub(lr*dw2)\n",
        "  \n",
        "w1_values = np.array(w1_values)\n",
        "w2_values = np.array(w2_values)\n",
        "\n",
        "print('Finished optimisation, the final values of w1 and w2 are:')\n",
        "print(w1.numpy(), w2.numpy())\n",
        "\n",
        "# Plot the final point on the loss surface.\n",
        "plt.scatter(w1.numpy(), w2.numpy(), marker='x', color='red')\n",
        "plt.show()\n",
        "\n",
        "# Plot the final decision boundary\n",
        "ax = plt.axes()\n",
        "plot_dataset(inputs, labels, ax)\n",
        "\n",
        "ax.arrow(0, 0, w1.numpy(), w2.numpy(), head_width=0.3, head_length=0.3, fc='r', ec='r')\n",
        "plt.plot([-2 * w2.numpy(), 2 * w2.numpy()], [2 * w1.numpy(), -2 * w1.numpy()], 'k-')"
      ],
      "execution_count": null,
      "outputs": [
        {
          "output_type": "stream",
          "name": "stdout",
          "text": [
            "Finished optimisation, the final values of w1 and w2 are:\n",
            "2.0308738 1.1158173\n"
          ]
        },
        {
          "output_type": "display_data",
          "data": {
            "image/png": "[encoded data removed]",
            "text/plain": [
              "<Figure size 432x288 with 2 Axes>"
            ]
          },
          "metadata": {
            "needs_background": "light"
          }
        },
        {
          "output_type": "execute_result",
          "data": {
            "text/plain": [
              "[<matplotlib.lines.Line2D at 0x7fe40d0a1f50>]"
            ]
          },
          "metadata": {},
          "execution_count": 42
        },
        {
          "output_type": "display_data",
          "data": {
            "image/png": "[encoded data removed]",
            "text/plain": [
              "<Figure size 432x288 with 1 Axes>"
            ]
          },
          "metadata": {
            "needs_background": "light"
          }
        }
      ]
    },
    {
      "cell_type": "markdown",
      "metadata": {
        "id": "EgLuuVNRQHqy"
      },
      "source": [
        "### L1 and L2 Regularisation"
      ]
    },
    {
      "cell_type": "markdown",
      "metadata": {
        "id": "SlO75RlmQKQF"
      },
      "source": [
        "Two of the most simple regularization methods are L1 and L2 regularization (you may have heard of them as _Lasso_ and _Ridge_ regression if you've used linear regression before). Both of these methods regularize the model by adding a term to the loss that penalizes the model if it becomes too complex.\n",
        "L1 regularization adds a term based on the L1 norm:\n",
        "\n",
        "$loss_{L1} = loss + \\lambda \\sum_i |w_i|$\n",
        "\n",
        "where $\\lambda$ is a parameter that controls the amount of regularization, and $w_i$ are the parameters of the model. L1 regularization has the effect of forcing some parameters to shrink to 0, effectively removing them from the model.\n",
        "\n",
        "L2 regularization similarly adds a term based on the L2 norm:\n",
        "\n",
        "$loss_{L2} = loss + \\lambda \\sum_i w_i^2$.\n",
        "\n",
        "L2 regularization has the effect of preventing any of the parameters from becoming too large and _overpowering_ the others. \n",
        "\n",
        "In some cases it can work well to use both L1 and L2 regularization. \n",
        "\n",
        "For more information see the articles [here](http://enhancedatascience.com/2017/07/04/machine-learning-explained-regularization/) and [here](https://towardsdatascience.com/l1-and-l2-regularization-methods-ce25e7fc831c)."
      ]
    },
    {
      "cell_type": "markdown",
      "metadata": {
        "id": "meoIDXSQjKeE"
      },
      "source": [
        "How did the final values of $w_1$ and $w_2$ found by Tensorflow correspond to the ones you found manually? \n",
        "\n",
        "## **Assignment:**\n",
        "If you've worked through this practical, answered all the questions and feel you have a good understanding of what's going on, try the following tasks:\n",
        "\n",
        "1. Add a **bias** parameter to the equation for the decision boundary and visualise how that changes the decision boundary, the loss and the ultimate solution found by Tensorflow.\n",
        "2. Add a **regulariser**, for example, the L2 regulariser (see the appendix below for more information) - how does it affect the contour plot of the parameters vs the loss? How does changing the strength of regularisation affect the loss? \n",
        "\n"
      ]
    }
  ]
}