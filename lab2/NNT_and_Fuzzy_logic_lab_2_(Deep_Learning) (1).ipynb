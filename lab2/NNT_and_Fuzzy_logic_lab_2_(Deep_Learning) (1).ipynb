{
  "nbformat": 4,
  "nbformat_minor": 0,
  "metadata": {
    "accelerator": "GPU",
    "colab": {
      "name": "NNT and Fuzzy logic lab 2 (Deep Learning).ipynb",
      "provenance": [],
      "collapsed_sections": [
        "aCRfDi_lDxjA",
        "baRyOEMXDxj5"
      ]
    },
    "kernelspec": {
      "display_name": "Python 3",
      "language": "python",
      "name": "python3"
    },
    "language_info": {
      "codemirror_mode": {
        "name": "ipython",
        "version": 3
      },
      "file_extension": ".py",
      "mimetype": "text/x-python",
      "name": "python",
      "nbconvert_exporter": "python",
      "pygments_lexer": "ipython3",
      "version": "3.8.8"
    }
  },
  "cells": [
    {
      "cell_type": "markdown",
      "metadata": {
        "id": "lD3y6d9YDxiL"
      },
      "source": [
        "# Deep Feed-forward Networks\n",
        "**NNT and Fuzzy logic Lab 2**\n",
        "\n",
        "\n",
        "\n",
        "\n",
        "**anyone didnot submit the assingment got -2  out of ten :-)**"
      ]
    },
    {
      "cell_type": "markdown",
      "metadata": {
        "id": "7gUyCHHYDxiO"
      },
      "source": [
        "## Introduction\n",
        "In this practical, we implement and train a feed-forward neural network (also known as an \"MLP\" for \"multi-layer perceptron\") on a dataset called **\"Fashion MNIST\"**, consisting of small greyscale images of items of fashion. We consider the practical issues around generalisation to out-of-sample data and introduce some important techniques for addressing this.\n",
        "\n",
        "Before diving into the Neural network part we first have an introduction to Tensorflow, a very popular deep learning framework that is used in all aspects of defining, training and testing models. \n",
        "## Learning objectives\n",
        "* Understand the basics of Tensorflow\n",
        "* Use **Tensorflow Eager** and **Keras Layers** to build a neural network archetecture\n",
        "* Understand how a model is trained and evaluated\n",
        "* Differentiate between **in-sample** and **out-of-sample** model performance\n",
        "* Understand the concept of **train/validation/test split** and why it's useful\n",
        "* Research at least 1 techniques that can be used to improve model **generalisation**"
      ]
    },
    {
      "cell_type": "markdown",
      "metadata": {
        "id": "6PhRp2b3DxiP"
      },
      "source": [
        "# Tensorflow\n",
        "As described in Wikipedia TensorFlow is a computational framework for building machine learning models. It is the second generation system from Google Brain headed by Jeff Dean. Launched in early 2017, it has disrupted the ML world by bringing in numerous capabilities from scalability to building production ready models.\n",
        "\n",
        "TensorFlow (TF) is an open source software library for numerical computation using the concept of Tensors.\n",
        "\n",
        " **Tensors:**\n",
        "\n",
        " You can think of Tensors as being a generalisation of matrices to higher dimensions, or roughly equivalent to multi-dimensional arrays. \n",
        " \n",
        " Scalars are 0-dimensional tensors, vectors are 1-dimensional, standard matrices are 2-dimensional, and higher-dimensional tensors have 3 or more dimensions. \n",
        " \n",
        "**Dimensions:**\n",
        "\n",
        " You can think of dimensions as representing groups of numbers that mean the same thing. For example, for images, we often use 3-dimensional tensors where the first dimension represents the red, green, and blue color channels of the image, and the next two are the columns and rows of pixels of the image. \n",
        "\n",
        "**Major Advantage of Tensorflow**\n",
        "\n",
        "The major advantage of using TensorFlow is that it can automatically derive the gradients of many mathematical expressions involving tensors. It achieves this through a process called \"automatic differentiation\". Tensorflow also supports multiple \"kernels\", allowing you to easily run your code on normal processors (CPUs), graphics cards (GPUs) and other more exotic hardware accelerators like Google's Tensor Processing Units (TPUs).\n",
        "\n",
        "Tensorflow actually provides **two modes of operation**, the first, called \"graph mode\", builds a computation graph upfront and then feeds data into the graph.\n",
        "\n",
        "**lazy mode**\n",
        "\n",
        "all code must be within session and one add the graph in the session and to perform any ooeration in the session one uses session.run()\n",
        "\n",
        "Tensorflow one works using lazy execution mode you draw the graph by defining the variables and if you want to do operation which contains the two variables togther one has to link them via node\n",
        "\n",
        "\n",
        "By building the graph upfront, Tensorflow can apply optimisations to the graph that allow it to extract peak performance from the hardware you're running on. You will have encountered this mode if you used Tensorflow before or attended the Indaba last year!\n",
        " \n",
        " **Eager Mode**\n",
        "\n",
        "The second mode, called [\"Eager-mode\"](https://www.tensorflow.org/guide/eager), is a lot newer and evaluates Tensor operations imperatively (in the order you write them), similar to NumPy and PyTorch. Eager-mode is slightly less performant but a lot more intuitive, especially if you've never used a \"define-and-run\" programming style (like graph mode) before, and is therefore the mode we will use in these practicals. "
      ]
    },
    {
      "cell_type": "code",
      "metadata": {
        "id": "b32FKSRGDxiQ"
      },
      "source": [
        "#@title Imports (RUN ME!) { display-mode: \"form\" }\n",
        "\n",
        "#!pip install tensorflow-gpu==2.0.0-beta0 > /dev/null 2>&1\n",
        "\n",
        "import tensorflow as tf\n",
        "import numpy as np\n",
        "import matplotlib.pyplot as plt\n",
        "%matplotlib inline\n",
        "\n",
        "#print(\"TensorFlow executing eagerly: {}\".format(tf.executing_eagerly()))"
      ],
      "execution_count": 1,
      "outputs": []
    },
    {
      "cell_type": "markdown",
      "metadata": {
        "id": "fm_iqNqSDxiW"
      },
      "source": [
        "For statrers, we can define a constant which is a tensor whose value cannot be changed at all. It can take many shapes and dimentions as the examples below show.\n",
        "\n",
        "We can also declare variable tensors which values change. Their declaration is abit different but the code below shows the difference between the two:"
      ]
    },
    {
      "cell_type": "code",
      "metadata": {
        "colab": {
          "base_uri": "https://localhost:8080/"
        },
        "id": "DBHp96yGDxiX",
        "outputId": "1fffe4a2-e337-425f-fa3d-f45b6c184d31"
      },
      "source": [
        "#TF one\n",
        "\n",
        "#for declaring constants we use the ft.constant function\n",
        "x1 = tf.constant(3)            #shape ()\n",
        "x2 = tf.constant([3, 5, 7])    #shape (3,)\n",
        "#we can use tf.stack to create higher dimentinal matricies\n",
        "x3 = tf.stack([x2, x2])        #shape (2, 3)\n",
        "\n",
        "#for declaring a variable we use the function tf.get_variable and we manuplate them using the tf.variable class\n",
        "\n",
        "\n",
        "my_var = tf.compat.v1.get_variable(\"my_var\", [1, 2, 3])\n",
        "\n",
        "init_op = tf.compat.v1.global_variables_initializer()\n",
        "print (x1)\n",
        "print(x2)\n",
        "print(x3) \n",
        "print(my_var)\n"
      ],
      "execution_count": 2,
      "outputs": [
        {
          "output_type": "stream",
          "name": "stdout",
          "text": [
            "tf.Tensor(3, shape=(), dtype=int32)\n",
            "tf.Tensor([3 5 7], shape=(3,), dtype=int32)\n",
            "tf.Tensor(\n",
            "[[3 5 7]\n",
            " [3 5 7]], shape=(2, 3), dtype=int32)\n",
            "<tf.Variable 'my_var:0' shape=(1, 2, 3) dtype=float32, numpy=\n",
            "array([[[-0.13886154, -0.3535686 ,  1.0924582 ],\n",
            "        [-0.14239413, -0.7333868 , -0.02768922]]], dtype=float32)>\n"
          ]
        }
      ]
    },
    {
      "cell_type": "markdown",
      "metadata": {
        "id": "JNUhqopdDxic"
      },
      "source": [
        "As you might have noticed, running the above code results in printing tensor abstract but not the values themselves. This is because a Tensorflow code is just an abstract representation of what will be run in the Tensorflow session. A session encapsulates state of Tensorflow runtime and runs Tensorflow operations. Tesnorflow represents the written code in an unserlying graph. Take the following code, it is represented by the grave underneath it."
      ]
    },
    {
      "cell_type": "code",
      "metadata": {
        "id": "cAItjczzDxid"
      },
      "source": [
        "# sessions = tf.compat.v1.Session()\n",
        "x = tf.constant([1, 2, 3], name = \"x\")\n",
        "y = tf.constant([4, 5, 6], name = \"y\")\n",
        "z1 = tf.add(x, y, name = \"z1\")\n",
        "z2 = x * y\n",
        "z3 = z2- z1"
      ],
      "execution_count": 3,
      "outputs": []
    },
    {
      "cell_type": "markdown",
      "metadata": {
        "id": "cj-olbnzDxii"
      },
      "source": [
        "![alt text](https://miro.medium.com/max/314/1*B9L6Y6lz1NzFFjyC1YMeYA.png)\n",
        "\n",
        "when we run the session thats when the value are inputed and we can get the values of the Tensors."
      ]
    },
    {
      "cell_type": "code",
      "metadata": {
        "colab": {
          "base_uri": "https://localhost:8080/"
        },
        "id": "in42xVAiDxij",
        "outputId": "14e0b2cd-e2e3-45d2-ff73-e2f056b32238"
      },
      "source": [
        "# print(sessions.run(z3))\n",
        "# sessions.close()\n",
        "print(z3)"
      ],
      "execution_count": 4,
      "outputs": [
        {
          "output_type": "stream",
          "name": "stdout",
          "text": [
            "tf.Tensor([-1  3  9], shape=(3,), dtype=int32)\n"
          ]
        }
      ]
    },
    {
      "cell_type": "markdown",
      "metadata": {
        "id": "R9BV8aKGDxio"
      },
      "source": [
        "### Basic TensorFlow operations\n",
        "#### Addition and Subtraction"
      ]
    },
    {
      "cell_type": "code",
      "metadata": {
        "colab": {
          "base_uri": "https://localhost:8080/"
        },
        "id": "zNINon7sDxip",
        "outputId": "8a221cd5-0860-433b-d7c3-c2958263e029"
      },
      "source": [
        "#lazy-mode\n",
        "print('Lazy mode')\n",
        "with tf.compat.v1.Session() as session:\n",
        "  a1 = tf.constant([1, 2, 3])\n",
        "  a2 = tf.constant([3, 4, 5])\n",
        "  a3 = a1 + a2\n",
        "  a4 = a1 - a2\n",
        "  print(f'printing a3: {session.run(a3)}')\n",
        "  print(f'printing a4: {session.run(a4)}')\n",
        "#print(a3)\n",
        "\n",
        "#if one removed the below a1 and a2 we will encounter error since we will be at the lazy mode\n",
        "# Result [4, 6, 8]\n",
        "print('eager mode')\n",
        "a1 = tf.constant([1, 2, 3])\n",
        "a2 = tf.constant([3, 4, 5])\n",
        "a3 = a1 + a2 # (tf.add(a1, a2) also works. TensorFlow supports primitive operators)\n",
        "a4 = a1 - a2\n",
        "# with tf.Session() as session:\n",
        "#     print(session.run(a4))\n",
        "print(a4)\n",
        "\n",
        "# Result [-2, -2, -2]"
      ],
      "execution_count": 5,
      "outputs": [
        {
          "output_type": "stream",
          "name": "stdout",
          "text": [
            "Lazy mode\n",
            "printing a3: [4 6 8]\n",
            "printing a4: [-2 -2 -2]\n",
            "eager mode\n",
            "tf.Tensor([-2 -2 -2], shape=(3,), dtype=int32)\n"
          ]
        }
      ]
    },
    {
      "cell_type": "markdown",
      "metadata": {
        "id": "6FyGpbYdDxir"
      },
      "source": [
        "#### Multiplication and Division"
      ]
    },
    {
      "cell_type": "code",
      "metadata": {
        "id": "ufabru9SDxis",
        "colab": {
          "base_uri": "https://localhost:8080/"
        },
        "outputId": "98e53206-2d71-43d6-9b96-e4ef6906a53c"
      },
      "source": [
        "#ToDo make multipication using lazy mode:\n",
        "\n",
        "\n",
        "\n",
        "\n",
        "a1 = tf.constant([1, 2, 3])\n",
        "a2 = tf.constant([3, 4, 5])\n",
        "a3 = a1 * a2 # (tf.mul(a1, a2) also works. TensorFlow supports primitive operators)\n",
        "\n",
        "# with tf.Session() as session:\n",
        "#     print(session.run(a3))\n",
        "print(a3)\n",
        "\n",
        "# Result [3, 8, 15]\n",
        "\n",
        "a4 = a1/a2\n",
        "# with tf.Session() as session:\n",
        "#     print(a4.eval())  # eval() can be used instead of session.run() to compute the results of a particular variable.\n",
        "\n",
        "print(a4)\n",
        "\n",
        "# Result [0.34, 0.5, 0.6]"
      ],
      "execution_count": 6,
      "outputs": [
        {
          "output_type": "stream",
          "name": "stdout",
          "text": [
            "tf.Tensor([ 3  8 15], shape=(3,), dtype=int32)\n",
            "tf.Tensor([0.33333333 0.5        0.6       ], shape=(3,), dtype=float64)\n"
          ]
        }
      ]
    },
    {
      "cell_type": "markdown",
      "metadata": {
        "id": "-QWxcFumDxiv"
      },
      "source": [
        "#### Reshape"
      ]
    },
    {
      "cell_type": "code",
      "metadata": {
        "colab": {
          "base_uri": "https://localhost:8080/"
        },
        "id": "TMHsPNZgDxiv",
        "outputId": "2c33bec9-814e-4313-c560-71658e296721"
      },
      "source": [
        "a1 = tf.constant(([3, 5, 7],\n",
        "                 [4, 6, 8]))  # Shape is (2, 3)\n",
        "a2 = tf.reshape(a1, [3, 2])\n",
        "#reshape first transform the tensor into vector - 1D- then checks if the vector has the same length as the new tensor and then creates the new data\n",
        "#[3,5,7,4,6,8] --> [[3,5],[7,4],[6,8]]\n",
        "\n",
        "with tf.compat.v1.Session() as sess:\n",
        "  a1 = tf.constant(([3, 5, 7],\n",
        "                 [4, 6, 8]))  # Shape is (2, 3)\n",
        "  a2 = tf.reshape(a1, [3, 2])\n",
        "  print(a2.eval())\n",
        "  print('############################')\n",
        "\n",
        "\n",
        "a1 = tf.constant(([3, 5, 7],\n",
        "                 [4, 6, 8]))  # Shape is (2, 3)\n",
        "a2 = tf.reshape(a1, [3, 2])\n",
        "print(a2)\n",
        "    \n",
        "# Result[[3, 5], [7, 4], [6, 8]]"
      ],
      "execution_count": 7,
      "outputs": [
        {
          "output_type": "stream",
          "name": "stdout",
          "text": [
            "[[3 5]\n",
            " [7 4]\n",
            " [6 8]]\n",
            "############################\n",
            "tf.Tensor(\n",
            "[[3 5]\n",
            " [7 4]\n",
            " [6 8]], shape=(3, 2), dtype=int32)\n"
          ]
        }
      ]
    },
    {
      "cell_type": "markdown",
      "metadata": {
        "id": "LxQTVKDUsV33"
      },
      "source": [
        "## Now restart the runtime and run the cell below to install Tensorflow v2.0 and start using Tensorflow Eager mode"
      ]
    },
    {
      "cell_type": "code",
      "metadata": {
        "colab": {
          "base_uri": "https://localhost:8080/"
        },
        "id": "vHKaR1Mda3-D",
        "outputId": "063521ab-5b85-4c40-e821-2f8b5ff05f54"
      },
      "source": [
        "#@title Imports (RUN ME!) { display-mode: \"form\" }\n",
        "\n",
        "# !pip install tensorflow-gpu==2.0.0-beta0 > /dev/null 2>&1\n",
        "\n",
        "# import tensorflow as tf\n",
        "# import numpy as np\n",
        "# import matplotlib.pyplot as plt\n",
        "# %matplotlib inline\n",
        "\n",
        "print(\"TensorFlow executing eagerly: {}\".format(tf.executing_eagerly()))"
      ],
      "execution_count": 8,
      "outputs": [
        {
          "output_type": "stream",
          "name": "stdout",
          "text": [
            "TensorFlow executing eagerly: True\n"
          ]
        }
      ]
    },
    {
      "cell_type": "markdown",
      "metadata": {
        "id": "QB9yL17iDxiy"
      },
      "source": [
        "Now that we got the basics of tensorflow we can delve into the meat of the practical and start on the Feed-forward Network\n",
        "### The Data\n",
        "In this practical, we use the Fashion MNIST dataset consisting of 70,000 greyscale images and their labels. The dataset is divided\n",
        " into 60,000 training images and 10,000 test images. \n",
        " \n",
        "The idea is to train a **classifier** to identify the class value (what type of fashion item it is) given the image. We train and *tune* a model on the 60,000 training images and then evaluate how well it classifies the 10,000 test images that the model did not see during training. This task is an example of a **supervised learning** problem, where we are given both input and labels (targets) to learn from. This is in contrast to **unsupervised learning** where we only have inputs from which to learn patterns or **reinforcement learning** where an agent learns how to maximise a reward signal through interaction with its environment. "
      ]
    },
    {
      "cell_type": "code",
      "metadata": {
        "id": "FJbiiRT_Dxiz",
        "colab": {
          "base_uri": "https://localhost:8080/"
        },
        "outputId": "e047ae8f-1a72-4daf-f625-5486e354bb28"
      },
      "source": [
        "# Tensorflow has convenient modules for loading a number of standard datasets\n",
        "fashion_mnist = tf.keras.datasets.fashion_mnist\n",
        "(train_and_validation_images, train_and_validation_labels), (test_images, test_labels) = fashion_mnist.load_data()\n",
        "\n",
        "text_labels = ['T-shirt/top', 'Trouser', 'Pullover', 'Dress', 'Coat', 'Sandal', 'Shirt', 'Sneaker', 'Bag', 'Ankle boot']\n",
        "\n",
        "#each image is 28 by 28 pixels image"
      ],
      "execution_count": 9,
      "outputs": [
        {
          "output_type": "stream",
          "name": "stdout",
          "text": [
            "Downloading data from https://storage.googleapis.com/tensorflow/tf-keras-datasets/train-labels-idx1-ubyte.gz\n",
            "32768/29515 [=================================] - 0s 0us/step\n",
            "40960/29515 [=========================================] - 0s 0us/step\n",
            "Downloading data from https://storage.googleapis.com/tensorflow/tf-keras-datasets/train-images-idx3-ubyte.gz\n",
            "26427392/26421880 [==============================] - 0s 0us/step\n",
            "26435584/26421880 [==============================] - 0s 0us/step\n",
            "Downloading data from https://storage.googleapis.com/tensorflow/tf-keras-datasets/t10k-labels-idx1-ubyte.gz\n",
            "16384/5148 [===============================================================================================] - 0s 0us/step\n",
            "Downloading data from https://storage.googleapis.com/tensorflow/tf-keras-datasets/t10k-images-idx3-ubyte.gz\n",
            "4423680/4422102 [==============================] - 0s 0us/step\n",
            "4431872/4422102 [==============================] - 0s 0us/step\n"
          ]
        }
      ]
    },
    {
      "cell_type": "markdown",
      "metadata": {
        "id": "MPUdyKBpDxi1"
      },
      "source": [
        "### Train/Validation/Test Split"
      ]
    },
    {
      "cell_type": "markdown",
      "metadata": {
        "id": "hUd4N-7dDxi3"
      },
      "source": [
        "When we build machine learning models, the goal is to build a model that will perform well on *future* data that we have not seen yet. We say that we want our models to be able to **generalise** well from whatever training data we can collect and do have available, to whatever data we will be applying them to in future. To do this, we split whatever data we have available into a **training set, a validation set and a test set**. The idea is that we train our model and use the performance on the validation set to make any adjustments to the model and its hyperparameters, but then we report the final accuracy on the test set. The test set (which we never train on), therefore acts as a proxy for our future data."
      ]
    },
    {
      "cell_type": "markdown",
      "metadata": {
        "id": "uFLhPVy1Dxi3"
      },
      "source": [
        "### Construct a validation set\n",
        "Next, we remove 10,000 images and labels from the training set to use as a validation set. We will come back to the validation set later! "
      ]
    },
    {
      "cell_type": "code",
      "metadata": {
        "id": "XZGBn7mIDxi4"
      },
      "source": [
        "# Construct a validation set from the last 10000 images and labels from\n",
        "# train_and_validation_images and train_and_validation_labels\n",
        "\n",
        "validation_images = train_and_validation_images[-10000:, :, :]\n",
        "validation_labels = train_and_validation_labels[-10000:]\n",
        "\n",
        "# Construct a training set from the first 50000 images and labels.\n",
        "train_images = train_and_validation_images[:50000, :, :]\n",
        "train_labels = train_and_validation_labels[:50000]"
      ],
      "execution_count": 10,
      "outputs": []
    },
    {
      "cell_type": "code",
      "metadata": {
        "colab": {
          "base_uri": "https://localhost:8080/"
        },
        "id": "RpeQtN_kbFLt",
        "outputId": "92b7a7aa-8419-4df4-9add-919bb2075033"
      },
      "source": [
        "train_images[0].shape"
      ],
      "execution_count": 11,
      "outputs": [
        {
          "output_type": "execute_result",
          "data": {
            "text/plain": [
              "(28, 28)"
            ]
          },
          "metadata": {},
          "execution_count": 11
        }
      ]
    },
    {
      "cell_type": "markdown",
      "metadata": {
        "id": "GbblWjSnDxi6"
      },
      "source": [
        "### What does the data look like?\n",
        "Each image in the dataset consists of a 28 x 28 matrix of greyscale pixels. The values are between 0 and 255 where 0 represents black, 255 represents white and there are many shades of grey in-between. Each image is assigned a corresponding numerical label, so the image in ```train_images[i]``` has its corresponding label stored in ```train_labels[i]```. We also have a lookup array called ```text_labels``` to associate a text description with each of the numerical labels. For example, the label 1 is associated with the text description \"Trouser\".\n",
        "\n",
        "The 2 cells below demonstrate how to visualise the input data. Make sure you understand what's happening, particularly how the indices correspond to individual items in the dataset. "
      ]
    },
    {
      "cell_type": "code",
      "metadata": {
        "colab": {
          "base_uri": "https://localhost:8080/",
          "height": 281
        },
        "id": "OcQBBEcEDxi7",
        "outputId": "0522f30f-d857-4d27-a4aa-a7c9a17e7d90"
      },
      "source": [
        "# We use the Matplotlib plotting library to visualise an image selected at random from the training set\n",
        "plt.figure()\n",
        "random_index = np.random.randint(0, len(train_images))\n",
        "#generate random index with value from 0 to the length of the dataset\n",
        "plt.imshow(train_images[random_index], cmap='gray_r')\n",
        "plt.colorbar()\n",
        "numerical_label = train_labels[random_index]\n",
        "text_description = text_labels[numerical_label]\n",
        "plt.title('True Class: {} (\"{}\")'.format(numerical_label, text_description))\n",
        "\n",
        "plt.gca().grid(False)"
      ],
      "execution_count": 12,
      "outputs": [
        {
          "output_type": "display_data",
          "data": {
            "image/png": "[encoded data removed]",
            "text/plain": [
              "<Figure size 432x288 with 2 Axes>"
            ]
          },
          "metadata": {
            "needs_background": "light"
          }
        }
      ]
    },
    {
      "cell_type": "code",
      "metadata": {
        "colab": {
          "base_uri": "https://localhost:8080/",
          "height": 860
        },
        "id": "3LpNPO5PDxi9",
        "outputId": "c7e96196-8765-4b68-bdc7-9d7d1c9147b3"
      },
      "source": [
        "# Another view, showing 25 randomly selected images at a time\n",
        "plt.figure(figsize=(15,15))\n",
        "for i in range(25):\n",
        "    plt.subplot(5,5,i+1)\n",
        "    #subplot(rows, cols, index of the image in the row)\n",
        "    plt.xticks([])\n",
        "    plt.yticks([])\n",
        "    plt.grid(False)\n",
        "\n",
        "    img_index = np.random.randint(0, 50000)\n",
        "    plt.imshow(train_images[img_index], cmap=\"gray_r\")\n",
        "    plt.xlabel(text_labels[train_labels[img_index]])"
      ],
      "execution_count": 13,
      "outputs": [
        {
          "output_type": "display_data",
          "data": {
            "image/png": "[encoded data removed]",
            "text/plain": [
              "<Figure size 1080x1080 with 25 Axes>"
            ]
          },
          "metadata": {}
        }
      ]
    },
    {
      "cell_type": "markdown",
      "metadata": {
        "id": "aCRfDi_lDxjA"
      },
      "source": [
        "### Exploratory Task\n",
        "Run the above cells multiple times to get a good sense of the dataset. Look at the general structure of the images and their corresponding labels. Can you spot some classes that might be difficult for a classifier to distinguish? If so, why do you think they would be difficult to distinguish? Chat to your neighbour about this. \n"
      ]
    },
    {
      "cell_type": "markdown",
      "metadata": {
        "id": "Wey6RimYDxjB"
      },
      "source": [
        "### Preparing the data with TensorFlow\n",
        "At the moment, our training data consists of two large tensors. The images are stored in a tensor of shape $[50000, 28, 28]$, consisting of all the $28 \\times 28$ images matrices stacked together. The labels are stored in a 1D vector of shape $[50000]$. We wish to train a model using **mini-batch stochastic gradient descent**. In order to do so, we need to shuffle the data and split it into smaller (mini-)batches. We also convert the data from numpy arrays to TensorFlow Tensors.\n",
        "\n",
        "\n",
        "In order to do this batching (and shuffling) we will use the Tensorflow [Dataset API](https://www.tensorflow.org/api_docs/python/tf/data/Dataset), which is a set of simple reusable components that allow you to build efficient data pipelines.\n",
        "\n",
        "**Pipeline**: is about taking the data from its raw shape, followed by performing all the pre-processing tasks, followed by mini-batch process and then to the training step,  the pipeline must be valid with all the dataset\n",
        "\n",
        " Data is said to \"stream\" through the pipeline, meaning that when something at the output of the pipeline wants data, the pipeline will provide that data as soon as it has enough, rather than waiting to process all the data. This allows you to easily build pipelines that work on large datasets without having to load it all into memory in one go!\n",
        "\n",
        "We build this pipeline step-by-step:"
      ]
    },
    {
      "cell_type": "markdown",
      "metadata": {
        "id": "9Cav6zIFDxjC"
      },
      "source": [
        "We start by defining the ```batch_size``` hyperparameter of our model. This hyperparameter controls the sizes of the mini-batches (chunks) of data that we use to train the model. The value you use will affect the memory usage, speed of convergence and potentially also the performance of the model. It also interacts with the *learning rate* used in gradient descent. "
      ]
    },
    {
      "cell_type": "code",
      "metadata": {
        "id": "aPtwHJtXDxjD"
      },
      "source": [
        "batch_size = 128\n",
        "#batch_size must be power of 2 why ?"
      ],
      "execution_count": 14,
      "outputs": []
    },
    {
      "cell_type": "markdown",
      "metadata": {
        "id": "99JDcc0hDxjG"
      },
      "source": [
        "The first component we add will group the image and label tensors together into a tuple and then split them into individual entries - ie. 50000 tuples containing a (28, 28) dimensional image and 1D label associated with that image. The following line adds this splitting component to the pipeline."
      ]
    },
    {
      "cell_type": "code",
      "metadata": {
        "id": "FBQucqtvDxjH"
      },
      "source": [
        "train_ds = tf.data.Dataset.from_tensor_slices((train_images, train_labels))\n",
        "#train_ds = (image, label)"
      ],
      "execution_count": 15,
      "outputs": []
    },
    {
      "cell_type": "markdown",
      "metadata": {
        "id": "aoDJgveUDxjL"
      },
      "source": [
        "The next thing we do is apply a map operation. This lets us run an arbitrary function on each element. The function we provide returns the image values divided by 255 and converted ('cast') to a float and the label converted to a 32-bit integer.\n",
        "\n",
        "**NOTE**: \"Lambda\" functions are just one-line, anonymous functions. In this case, it defines a function that takes arguments x and y (before the colon), and outputs their manipulated values (after the colon)."
      ]
    },
    {
      "cell_type": "code",
      "metadata": {
        "id": "CBhiIxk7DxjN"
      },
      "source": [
        "# Divide image values and cast to float so that they end up as a floating point number between 0 and 1\n",
        "train_ds = train_ds.map(lambda x, y: (tf.cast(x, tf.float32) / 255.0, tf.cast(y, tf.int32)))\n",
        "train_images = train_images/255.0\n",
        "#normalization the value fo the images between 0 - 1\n",
        "#the label is from 0 to 9"
      ],
      "execution_count": 16,
      "outputs": []
    },
    {
      "cell_type": "markdown",
      "metadata": {
        "id": "Xv2sIJfjDxjS"
      },
      "source": [
        "Then we add a **shuffle** component. This returns a random element from the pipeline. Can you spot a potential problem here? \n",
        "\n"
      ]
    },
    {
      "cell_type": "code",
      "metadata": {
        "id": "CBRwScQSDxjU"
      },
      "source": [
        "# Shuffle the examples.\n",
        "train_ds = train_ds.shuffle(buffer_size=batch_size * 10)\n",
        "#the buffer_size must be at least 10 times the batch_size to ensure the data passed to the model is shuffled, otherwise the data will not shuffled properly :("
      ],
      "execution_count": 17,
      "outputs": []
    },
    {
      "cell_type": "markdown",
      "metadata": {
        "id": "XgVg1yitDxje"
      },
      "source": [
        "The final component in our pipeline is the batch component. This just requests `batch_size` elements from the previous pipeline component, groups them together into a single tensor and returns that."
      ]
    },
    {
      "cell_type": "code",
      "metadata": {
        "id": "vtwhLQGODxji"
      },
      "source": [
        "# Now \"chunk\" the examples into batches\n",
        "#divide the shuffled dataset into batches\n",
        "train_ds = train_ds.batch(batch_size)\n",
        "\n",
        "# The output of this pipeline will be tuples of tensors containing images and labels.\n",
        "# The images will be of shape (batch_size, 28, 28) and the labels of shape (batch_size, )"
      ],
      "execution_count": 18,
      "outputs": []
    },
    {
      "cell_type": "markdown",
      "metadata": {
        "id": "dF8OIlSyDxjn"
      },
      "source": [
        "Finally, we apply the same pre-processing (converting to Tensors and normalising the values to lie between 0 and 1) to the validation set. "
      ]
    },
    {
      "cell_type": "code",
      "metadata": {
        "id": "UKeX5wkkDxjo"
      },
      "source": [
        "# Don't worry about this for now, we will use the validation set later\n",
        "val_ds = tf.data.Dataset.from_tensor_slices((validation_images, validation_labels))\n",
        "\n",
        "val_ds = val_ds.map(lambda x, y: (tf.cast(x, tf.float32) / 255.0, tf.cast(y, tf.int32)))\n",
        "\n",
        "\n",
        "\n",
        "validation_images = validation_images/255.0\n",
        "#no need to shuffle in the validation dataset,  since we use all of it to for validating our model"
      ],
      "execution_count": 19,
      "outputs": []
    },
    {
      "cell_type": "markdown",
      "metadata": {
        "id": "_C4s7E_XDxjq"
      },
      "source": [
        "## Define the model\n",
        "In this section we'll build a classifier. A **classifier** is a function that takes an object's characteristics (or \"features\") as inputs and outputs a prediction of the class (or group) that the object belongs to. It may make a single prediction for each input or it may output some score (for example a probability) for each of the possible classes. Specifically, we will build a classifier that takes in (a batch of) 28 x 28 Fashion MNIST images as we've seen above, and outputs predictions about which class the image belongs to. \n",
        "\n",
        "For each (batch of) input images, we will use a **feed-forward neural network** to compute un-normalised scores (also known as **logits**) for each of the 10 possible classes that the image could belong to. We can then **classify** the image as belonging to the class which receives the highest score, or we can quantify the model's \"confidence\" about the classifications by converting the scores into a probability distribution. \n",
        "\n",
        "A feed-forward neural network consisting of $N$ layers, applied to an input vector $\\mathbf{x}$ can be defined as:\n",
        "\n",
        "\\begin{equation}\n",
        "\\mathbf{f_0} = \\mathbf{x} \\\\\n",
        "\\mathbf{f_i} = \\sigma_i(\\mathbf{W_if_{i-1}} + \\mathbf{b_i}) \\ \\ \\ i \\in [1, N]\n",
        "\\end{equation}\n",
        "\n",
        "Each layer has a particular number, $m_i$, of neurons. The parameters of a layer consist of a matrix $\\mathbf{W_i} \\in \\mathbb{R}^{m_i \\times m_{i-1}}$ and bias vector $\\mathbf{b_i} \\in \\mathbb{R}^{m_i}$. Each layer also has a non-linear activation function $\\sigma_i$. \n",
        "\n"
      ]
    },
    {
      "cell_type": "markdown",
      "metadata": {
        "id": "nVdZG4dvDxjr"
      },
      "source": [
        "###  Activation functions"
      ]
    },
    {
      "cell_type": "markdown",
      "metadata": {
        "id": "dJ2U6G-SDxjs"
      },
      "source": [
        "\n",
        "\n",
        "Activation functions are a core ingredient in deep neural networks. In fact they are what allows us to make use of multiple layers in a neural network. There are a number of different activation functions, each of which are more or less useful under different circumstances. The four activation functions that you are most likely to encounter are, arguably, [ReLU](https://www.tensorflow.org/api_docs/python/tf/keras/layers/ReLU), [Tanh](https://www.tensorflow.org/api_docs/python/tf/keras/activations/tanh), [Sigmoid](https://www.tensorflow.org/api_docs/python/tf/keras/activations/sigmoid), and [Softmax](https://www.tensorflow.org/api_docs/python/tf/keras/layers/Softmax). \n",
        "\n",
        "ReLU, has in recent years, become the default choice for use in MLPs and Convolutional Neural Networks (CNNs). ReLU has two advantages over Tanh and Sigmoid: it is computationally much more efficient, and, it allows us to use deeper networks because it does not suffer from [vanishing gradients](https://en.wikipedia.org/wiki/Vanishing_gradient_problem). As a result of their success, a number of ReLU variants, such as [LeakyRelu](https://www.tensorflow.org/api_docs/python/tf/keras/layers/LeakyReLU) and [PReLU](https://www.tensorflow.org/api_docs/python/tf/keras/layers/PReLU), have been developed.\n",
        "\n",
        "Sigmoid and Softmax activations are often found after the last layer in binary and multi-class classification networks, respectively, as they transform the outputs of the network in such a way that we can interpret them as class probabilities.\n",
        "\n",
        "Both Tanh and Sigmoid are found in LSTM and GRU recurrent neural networks, which we will find out more about in the coming days. They are also useful in MLPs and CNNs where we want the output to be bounded between -1 and 1 (Tanh) or 0 and 1 (Sigmoid).\n",
        "\n",
        "Read more about activation functions [here](https://towardsdatascience.com/activation-functions-neural-networks-1cbd9f8d91d6). "
      ]
    },
    {
      "cell_type": "markdown",
      "metadata": {
        "id": "eSRNRokNDxjw"
      },
      "source": [
        "### Configure the feed-forward neural network\n",
        "We configure the feed-forward neural network part of our classifier using the [Keras Layers API](https://www.tensorflow.org/api_docs/python/tf/keras/layers). This API consists of various reusable building-blocks that allow us to define many different neural network architectures (similar to how we defined a data pipeline earlier!). \n",
        "\n",
        "Here we use the [Sequential](https://www.tensorflow.org/api_docs/python/tf/keras/Sequential) component which allows us to wrap together a sequence of layers. An important point to note here is that we are **configuring** our neural network architecture as a pipeline. We can think of the resulting ```model``` variable as a *function* that takes a batch of images as inputs and outputs a batch of logits. "
      ]
    },
    {
      "cell_type": "code",
      "metadata": {
        "id": "2AQ_VBthDxjy"
      },
      "source": [
        "# RE-RUN THIS CELL if you want to restart training!\n",
        "#note here we are flattening the dataset\n",
        "\n",
        "\n",
        "model = tf.keras.Sequential([\n",
        "    # Convert the 28x28 image into a flat vector of 28x28 = 784 values\n",
        "    tf.keras.layers.Flatten(input_shape=(28, 28), name='flatten_input'),\n",
        "    # Create a \"hidden\" layer with 256 neurons and apply the ReLU non-linearity\n",
        "    tf.keras.layers.Dense(256, activation=tf.nn.relu, name='input_to_hidden1'),\n",
        "    # Create another hidden layer with 128 neurons\n",
        "    tf.keras.layers.Dense(128, activation=tf.nn.relu, name='hidden1_to_hidden2'),\n",
        "    # Create an \"output layer\" with 10 neurons\n",
        "    tf.keras.layers.Dense(10, activation='softmax', name='hidden_to_logits'),\n",
        "])"
      ],
      "execution_count": 20,
      "outputs": []
    },
    {
      "cell_type": "markdown",
      "metadata": {
        "id": "7YNP8uM3Dxj1"
      },
      "source": [
        "The following summary shows how many parameters each layer is made up of (the number of entries in the weight matrics and bias vectors). Note that a value of ```None``` in a particular dimension of a shape means that the shape will dynamically adapt based on the shape of the inputs. In particular, the output shape of the ```flatten_input``` layer will be $[N, 784]$ when the batch of inputs passed to the model has shape $[N, 28, 28]$"
      ]
    },
    {
      "cell_type": "code",
      "metadata": {
        "colab": {
          "base_uri": "https://localhost:8080/"
        },
        "id": "3L1WmzZdDxj2",
        "outputId": "6ccd31be-31d7-4c98-f05d-54e204b41ba0"
      },
      "source": [
        "model.summary()"
      ],
      "execution_count": 21,
      "outputs": [
        {
          "output_type": "stream",
          "name": "stdout",
          "text": [
            "Model: \"sequential\"\n",
            "_________________________________________________________________\n",
            "Layer (type)                 Output Shape              Param #   \n",
            "=================================================================\n",
            "flatten_input (Flatten)      (None, 784)               0         \n",
            "_________________________________________________________________\n",
            "input_to_hidden1 (Dense)     (None, 256)               200960    \n",
            "_________________________________________________________________\n",
            "hidden1_to_hidden2 (Dense)   (None, 128)               32896     \n",
            "_________________________________________________________________\n",
            "hidden_to_logits (Dense)     (None, 10)                1290      \n",
            "=================================================================\n",
            "Total params: 235,146\n",
            "Trainable params: 235,146\n",
            "Non-trainable params: 0\n",
            "_________________________________________________________________\n"
          ]
        }
      ]
    },
    {
      "cell_type": "markdown",
      "metadata": {
        "id": "yiCUzgdpDxj4"
      },
      "source": [
        "**Quiz**:\n",
        "\n",
        " Note that the flattening operation has no parameters. However, the Dense (fully-connected) layer mapping from the 784-D output of the flatten operation to the 256-D hidden layer has 200,960 parameters! Can you explain why the first dense layer has 200,960 parameters?  and the second layer has 32896 ? and the final layer has 1290 ?"
      ]
    },
    {
      "cell_type": "markdown",
      "metadata": {
        "id": "baRyOEMXDxj5"
      },
      "source": [
        "### Define the loss\n",
        "As we did in the previous practical, we need to specify a loss function for our classifier. This tells us how good our model's predictions are compared to the actual labels (the targets), with a lower loss meaning better predictions. \n",
        "\n",
        "The standard loss function to use with a **multi-class classifier** is the **cross-entropy loss** also known as the \"negative log likelihood\" for a classifier. Suppose we have a classification problem with $C$ classes. A classifier is trained to predict a probability distribution $p(y | X_i)$ for each input $X_i$ from a batch of $N$ examples. The vector $p(y|X_i)$ is $C$ dimensional, sums to one, and we use $p(y|X_i)_c$ to denote the $c$th component of  $p(y|X_i)$. The true class for example $i$ in the batch is $y_i$ and we define the indicator function $\\mathbb{1}[y_i=c]$ to be 1 whenever $y_i = c$ and $0$ otherwise. This classifier has a cross-entropy loss of\n",
        "\n",
        "$- \\frac{1}{N}\\sum_{i=1}^N \\sum_{c=1}^C log( p(y|X_i)_c) \\mathbb{1}[y_i=c]$\n",
        "\n",
        "**NOTE**: The indicator is one for the true class label, and zero everywhere else. So in that sum, the indicator just \"lifts out\" the $log(p(y|X_i))$ values for all true classes. So the above expression is minimised (note the negative at the front) when the model places all its probability mass on the true labels for all the examples. Remember that  log(1)=0 , thus the closer all probabilities of $y_i = c$ are to one, the lower the loss will be and the better the model will be performing.\n",
        "\n",
        "\n",
        "Fortunately we don't need to write this function ourselves as Tensorflow provides a version called \n",
        "\n",
        "```tf.keras.losses.SparseCategoricalCrossentropy(from_logits=True)```. \n",
        "\n",
        "**NOTE**: This function actually computes the cross entropy loss directly from the un-normalised logits, rather than from the probability distribution for numerical stability.\n",
        "\n",
        "By the way, for training data in which the labels are themselves distributions rather than exact values, this definition of cross-entropy still works, where the indicator function is replaced with the corresponding probability of each class for that example. This might be important when we are not sure whether the training data has been labelled correctly, or when the data was labelled by a human who gave their answer along with a degree of confidence that the answer was correct"
      ]
    },
    {
      "cell_type": "markdown",
      "metadata": {
        "id": "PzjQV7XRDxj6"
      },
      "source": [
        "## Train the model\n",
        "Now that we have our data, data processing pipeline, our neural network architecture and the corresponding loss that we want to minimise, we need to **train** the model using batched stochastic gradient descent. We do this in multiple **epochs**, which is a single iteration through the entire training dataset. Briefly, in each epoch we loop over all the batches of images and labels, and for each batch we perform the following steps:\n",
        "* Get the **predictions** of the model on the current batch of images\n",
        "* Compute the **average loss** values across the batch, telling us how good these predictions are / how close they are to the true targets.\n",
        "* Compute the **gradient of the average loss** (or the average gradient of the losses in the batch) with respect to each of the model's parameters: This tells us the direction to move in \"parameter space\" to decrease the loss value\n",
        "* **Adjust the parameters** by taking a small step in the direction of each component of the gradient (where the learning rate controls the size of the step)\n",
        "\n",
        "During training we also track some metrics, such as the loss and accuracy to see how well the classifier is doing. Note that the cell below may take a few minutes to run! \n",
        "\n"
      ]
    },
    {
      "cell_type": "markdown",
      "metadata": {
        "id": "AYtxtqMuDxj8"
      },
      "source": [
        "### Defining the training loop"
      ]
    },
    {
      "cell_type": "code",
      "metadata": {
        "colab": {
          "base_uri": "https://localhost:8080/"
        },
        "id": "Fd2lwydZ9OOm",
        "outputId": "62f2f82c-7c2f-4e89-bed8-02f6c726eb7d"
      },
      "source": [
        "#######Pipeline GD using tensorflow 2 without keras\n",
        "\n",
        "# Choose an optimizer and loss function for training:\n",
        "# The optimizer is responsible for controlling the learning rate\n",
        "optimizer = tf.keras.optimizers.Adam()\n",
        "loss_object = tf.keras.losses.SparseCategoricalCrossentropy(from_logits=True)\n",
        "\n",
        "# Select metrics to measure the loss and the accuracy of the model. \n",
        "# These metrics accumulate the values over epochs and then print the overall result.\n",
        "train_loss = tf.keras.metrics.Mean(name='train_loss')\n",
        "train_accuracy = tf.keras.metrics.SparseCategoricalAccuracy(name='train_accuracy')\n",
        "\n",
        "num_epochs = 50  # The number of epochs to run\n",
        "\n",
        "# Lists to store the loss and accuracy of every epoch\n",
        "train_losses = []\n",
        "train_accuracies = []\n",
        "\n",
        "# Defined a function to train the model using tf.GradientTape\n",
        "\n",
        "\n",
        "#model.fit is train_step for all epochs\n",
        "@tf.function\n",
        "def train_step(image, label):\n",
        "  # Initialise a GradientTape to track the operations\n",
        "  with tf.GradientTape() as tape:\n",
        "    # Compute the logits (un-normalised scores) of the current batch of examples\n",
        "    # using the neural network architecture we defined earlier\n",
        "    logits = model(image)\n",
        "    #logits are the outputs of the model\n",
        "    loss = loss_object(label, logits)\n",
        "    #compute the cross-entropy loss\n",
        "\n",
        "  gradients = tape.gradient(loss, model.trainable_variables)\n",
        "  #gradients of all the weights according to predicted output and loss function\n",
        "  optimizer.apply_gradients(zip(gradients, model.trainable_variables))\n",
        "  #\n",
        "  \n",
        "  # Add current batch loss to our loss metric tracker - note the function call semantics\n",
        "  train_loss(loss)\n",
        "  train_accuracy(label, logits)\n",
        "\n",
        "# Define a function to test the model\n",
        "# @tf.function\n",
        "# def val_step(image, label):\n",
        "  # TODO\n",
        "\n",
        "for epoch in range(num_epochs):\n",
        "  # Loop over our data pipeline\n",
        "  for image, label in train_ds:\n",
        "    train_step(image, label)\n",
        "      \n",
        "  template = 'Epoch {:03d}, Loss: {:.3f}, Accuracy: {:.3%}'\n",
        "  print(template.format(epoch+1,\n",
        "                        train_loss.result(), \n",
        "                        train_accuracy.result()))\n",
        "  \n",
        "  train_losses.append(train_loss.result())\n",
        "  train_accuracies.append(train_accuracy.result())"
      ],
      "execution_count": 22,
      "outputs": [
        {
          "output_type": "stream",
          "name": "stderr",
          "text": [
            "/usr/local/lib/python3.7/dist-packages/keras/backend.py:4907: UserWarning: \"`sparse_categorical_crossentropy` received `from_logits=True`, but the `output` argument was produced by a sigmoid or softmax activation and thus does not represent logits. Was this intended?\"\n",
            "  '\"`sparse_categorical_crossentropy` received `from_logits=True`, but '\n"
          ]
        },
        {
          "output_type": "stream",
          "name": "stdout",
          "text": [
            "Epoch 001, Loss: 0.524, Accuracy: 81.560%\n",
            "Epoch 002, Loss: 0.450, Accuracy: 84.001%\n",
            "Epoch 003, Loss: 0.411, Accuracy: 85.303%\n",
            "Epoch 004, Loss: 0.385, Accuracy: 86.170%\n",
            "Epoch 005, Loss: 0.367, Accuracy: 86.764%\n",
            "Epoch 006, Loss: 0.351, Accuracy: 87.249%\n",
            "Epoch 007, Loss: 0.338, Accuracy: 87.699%\n",
            "Epoch 008, Loss: 0.326, Accuracy: 88.093%\n",
            "Epoch 009, Loss: 0.316, Accuracy: 88.431%\n",
            "Epoch 010, Loss: 0.307, Accuracy: 88.740%\n",
            "Epoch 011, Loss: 0.299, Accuracy: 89.018%\n",
            "Epoch 012, Loss: 0.291, Accuracy: 89.287%\n",
            "Epoch 013, Loss: 0.284, Accuracy: 89.525%\n",
            "Epoch 014, Loss: 0.278, Accuracy: 89.757%\n",
            "Epoch 015, Loss: 0.272, Accuracy: 89.985%\n",
            "Epoch 016, Loss: 0.266, Accuracy: 90.187%\n",
            "Epoch 017, Loss: 0.260, Accuracy: 90.376%\n",
            "Epoch 018, Loss: 0.255, Accuracy: 90.555%\n",
            "Epoch 019, Loss: 0.250, Accuracy: 90.732%\n",
            "Epoch 020, Loss: 0.245, Accuracy: 90.914%\n",
            "Epoch 021, Loss: 0.241, Accuracy: 91.065%\n",
            "Epoch 022, Loss: 0.236, Accuracy: 91.215%\n",
            "Epoch 023, Loss: 0.232, Accuracy: 91.369%\n",
            "Epoch 024, Loss: 0.228, Accuracy: 91.512%\n",
            "Epoch 025, Loss: 0.224, Accuracy: 91.660%\n",
            "Epoch 026, Loss: 0.220, Accuracy: 91.803%\n",
            "Epoch 027, Loss: 0.217, Accuracy: 91.933%\n",
            "Epoch 028, Loss: 0.213, Accuracy: 92.066%\n",
            "Epoch 029, Loss: 0.210, Accuracy: 92.192%\n",
            "Epoch 030, Loss: 0.206, Accuracy: 92.316%\n",
            "Epoch 031, Loss: 0.203, Accuracy: 92.436%\n",
            "Epoch 032, Loss: 0.200, Accuracy: 92.549%\n",
            "Epoch 033, Loss: 0.197, Accuracy: 92.661%\n",
            "Epoch 034, Loss: 0.194, Accuracy: 92.770%\n",
            "Epoch 035, Loss: 0.191, Accuracy: 92.880%\n",
            "Epoch 036, Loss: 0.188, Accuracy: 92.983%\n",
            "Epoch 037, Loss: 0.186, Accuracy: 93.075%\n",
            "Epoch 038, Loss: 0.183, Accuracy: 93.173%\n",
            "Epoch 039, Loss: 0.180, Accuracy: 93.271%\n",
            "Epoch 040, Loss: 0.178, Accuracy: 93.363%\n",
            "Epoch 041, Loss: 0.175, Accuracy: 93.452%\n",
            "Epoch 042, Loss: 0.173, Accuracy: 93.540%\n",
            "Epoch 043, Loss: 0.171, Accuracy: 93.623%\n",
            "Epoch 044, Loss: 0.169, Accuracy: 93.704%\n",
            "Epoch 045, Loss: 0.166, Accuracy: 93.783%\n",
            "Epoch 046, Loss: 0.164, Accuracy: 93.861%\n",
            "Epoch 047, Loss: 0.162, Accuracy: 93.938%\n",
            "Epoch 048, Loss: 0.160, Accuracy: 94.008%\n",
            "Epoch 049, Loss: 0.158, Accuracy: 94.083%\n",
            "Epoch 050, Loss: 0.156, Accuracy: 94.157%\n"
          ]
        }
      ]
    },
    {
      "cell_type": "code",
      "metadata": {
        "colab": {
          "base_uri": "https://localhost:8080/",
          "height": 562
        },
        "id": "nGMH6AAB9thO",
        "outputId": "16084cf8-5b8e-4b2c-9374-6783081e15d5"
      },
      "source": [
        "# Plot the loss for all epochs using Matplotlib\n",
        "plt.figure()\n",
        "plt.plot(range(num_epochs), train_losses)\n",
        "plt.title('Loss vs epochs')\n",
        "\n",
        "# Plot the accuracy for all epochs using Matplotlib\n",
        "plt.figure()\n",
        "plt.plot(range(num_epochs), train_accuracies)\n",
        "plt.title('Accuracy vs epochs')"
      ],
      "execution_count": 23,
      "outputs": [
        {
          "output_type": "execute_result",
          "data": {
            "text/plain": [
              "Text(0.5, 1.0, 'Accuracy vs epochs')"
            ]
          },
          "metadata": {},
          "execution_count": 23
        },
        {
          "output_type": "display_data",
          "data": {
            "image/png": "[encoded data removed]",
            "text/plain": [
              "<Figure size 432x288 with 1 Axes>"
            ]
          },
          "metadata": {
            "needs_background": "light"
          }
        },
        {
          "output_type": "display_data",
          "data": {
            "image/png": "[encoded data removed]",
            "text/plain": [
              "<Figure size 432x288 with 1 Axes>"
            ]
          },
          "metadata": {
            "needs_background": "light"
          }
        }
      ]
    },
    {
      "cell_type": "code",
      "metadata": {
        "colab": {
          "base_uri": "https://localhost:8080/"
        },
        "id": "NITPuzu8Dxj9",
        "outputId": "0bcb66ab-1bf9-46f6-cf78-c829b975bc81"
      },
      "source": [
        "#with keras\n",
        "# Choose an optimizer and loss function for training:\n",
        "# The optimizer is responsible for controlling the learning rate\n",
        "\n",
        "\n",
        "# this code is for stochastic gradient descent\n",
        "\n",
        "optimizer = tf.keras.optimizers.Adam()\n",
        "loss_object = tf.keras.losses.SparseCategoricalCrossentropy(from_logits=True)\n",
        "\n",
        "# Select metrics to measure the loss and the accuracy of the model. \n",
        "# These metrics accumulate the values over epochs and then print the overall result.\n",
        "train_loss = tf.keras.metrics.Mean(name='train_loss')\n",
        "train_accuracy = tf.keras.metrics.SparseCategoricalAccuracy(name='train_accuracy')\n",
        "model.compile(optimizer, loss_object, metrics=['acc'])\n",
        "\n",
        "history = model.fit(x= train_images, y= train_labels, batch_size=256, epochs=50, validation_data=(validation_images, validation_labels))\n"
      ],
      "execution_count": 24,
      "outputs": [
        {
          "output_type": "stream",
          "name": "stdout",
          "text": [
            "Epoch 1/50\n"
          ]
        },
        {
          "output_type": "stream",
          "name": "stderr",
          "text": [
            "/usr/local/lib/python3.7/dist-packages/keras/backend.py:4907: UserWarning: \"`sparse_categorical_crossentropy` received `from_logits=True`, but the `output` argument was produced by a sigmoid or softmax activation and thus does not represent logits. Was this intended?\"\n",
            "  '\"`sparse_categorical_crossentropy` received `from_logits=True`, but '\n"
          ]
        },
        {
          "output_type": "stream",
          "name": "stdout",
          "text": [
            "196/196 [==============================] - 2s 5ms/step - loss: 0.0722 - acc: 0.9727 - val_loss: 0.5222 - val_acc: 0.8942\n",
            "Epoch 2/50\n",
            "196/196 [==============================] - 1s 4ms/step - loss: 0.0623 - acc: 0.9760 - val_loss: 0.5522 - val_acc: 0.8920\n",
            "Epoch 3/50\n",
            "196/196 [==============================] - 1s 4ms/step - loss: 0.0586 - acc: 0.9781 - val_loss: 0.5913 - val_acc: 0.8918\n",
            "Epoch 4/50\n",
            "196/196 [==============================] - 1s 4ms/step - loss: 0.0534 - acc: 0.9796 - val_loss: 0.5557 - val_acc: 0.8956\n",
            "Epoch 5/50\n",
            "196/196 [==============================] - 1s 4ms/step - loss: 0.0522 - acc: 0.9803 - val_loss: 0.5508 - val_acc: 0.8924\n",
            "Epoch 6/50\n",
            "196/196 [==============================] - 1s 4ms/step - loss: 0.0530 - acc: 0.9797 - val_loss: 0.5623 - val_acc: 0.8935\n",
            "Epoch 7/50\n",
            "196/196 [==============================] - 1s 4ms/step - loss: 0.0477 - acc: 0.9821 - val_loss: 0.5741 - val_acc: 0.8971\n",
            "Epoch 8/50\n",
            "196/196 [==============================] - 1s 4ms/step - loss: 0.0463 - acc: 0.9821 - val_loss: 0.5843 - val_acc: 0.8933\n",
            "Epoch 9/50\n",
            "196/196 [==============================] - 1s 4ms/step - loss: 0.0469 - acc: 0.9822 - val_loss: 0.5897 - val_acc: 0.8966\n",
            "Epoch 10/50\n",
            "196/196 [==============================] - 1s 4ms/step - loss: 0.0472 - acc: 0.9822 - val_loss: 0.6225 - val_acc: 0.8929\n",
            "Epoch 11/50\n",
            "196/196 [==============================] - 1s 4ms/step - loss: 0.0439 - acc: 0.9832 - val_loss: 0.6137 - val_acc: 0.8923\n",
            "Epoch 12/50\n",
            "196/196 [==============================] - 1s 4ms/step - loss: 0.0449 - acc: 0.9828 - val_loss: 0.6199 - val_acc: 0.8970\n",
            "Epoch 13/50\n",
            "196/196 [==============================] - 1s 4ms/step - loss: 0.0411 - acc: 0.9845 - val_loss: 0.5989 - val_acc: 0.8964\n",
            "Epoch 14/50\n",
            "196/196 [==============================] - 1s 4ms/step - loss: 0.0366 - acc: 0.9863 - val_loss: 0.6068 - val_acc: 0.8946\n",
            "Epoch 15/50\n",
            "196/196 [==============================] - 1s 4ms/step - loss: 0.0404 - acc: 0.9845 - val_loss: 0.6293 - val_acc: 0.8932\n",
            "Epoch 16/50\n",
            "196/196 [==============================] - 1s 4ms/step - loss: 0.0329 - acc: 0.9876 - val_loss: 0.6652 - val_acc: 0.8915\n",
            "Epoch 17/50\n",
            "196/196 [==============================] - 1s 4ms/step - loss: 0.0349 - acc: 0.9876 - val_loss: 0.6674 - val_acc: 0.8890\n",
            "Epoch 18/50\n",
            "196/196 [==============================] - 1s 4ms/step - loss: 0.0411 - acc: 0.9851 - val_loss: 0.6651 - val_acc: 0.8904\n",
            "Epoch 19/50\n",
            "196/196 [==============================] - 1s 4ms/step - loss: 0.0353 - acc: 0.9874 - val_loss: 0.6915 - val_acc: 0.8905\n",
            "Epoch 20/50\n",
            "196/196 [==============================] - 1s 4ms/step - loss: 0.0329 - acc: 0.9878 - val_loss: 0.6760 - val_acc: 0.8942\n",
            "Epoch 21/50\n",
            "196/196 [==============================] - 1s 4ms/step - loss: 0.0317 - acc: 0.9882 - val_loss: 0.6972 - val_acc: 0.8913\n",
            "Epoch 22/50\n",
            "196/196 [==============================] - 1s 4ms/step - loss: 0.0313 - acc: 0.9884 - val_loss: 0.7256 - val_acc: 0.8926\n",
            "Epoch 23/50\n",
            "196/196 [==============================] - 1s 4ms/step - loss: 0.0307 - acc: 0.9887 - val_loss: 0.7285 - val_acc: 0.8892\n",
            "Epoch 24/50\n",
            "196/196 [==============================] - 1s 4ms/step - loss: 0.0363 - acc: 0.9867 - val_loss: 0.6918 - val_acc: 0.8952\n",
            "Epoch 25/50\n",
            "196/196 [==============================] - 1s 4ms/step - loss: 0.0286 - acc: 0.9893 - val_loss: 0.7212 - val_acc: 0.8917\n",
            "Epoch 26/50\n",
            "196/196 [==============================] - 1s 4ms/step - loss: 0.0279 - acc: 0.9899 - val_loss: 0.7089 - val_acc: 0.8972\n",
            "Epoch 27/50\n",
            "196/196 [==============================] - 1s 4ms/step - loss: 0.0258 - acc: 0.9912 - val_loss: 0.7056 - val_acc: 0.8944\n",
            "Epoch 28/50\n",
            "196/196 [==============================] - 1s 4ms/step - loss: 0.0310 - acc: 0.9888 - val_loss: 0.7332 - val_acc: 0.8930\n",
            "Epoch 29/50\n",
            "196/196 [==============================] - 1s 4ms/step - loss: 0.0254 - acc: 0.9910 - val_loss: 0.7437 - val_acc: 0.8930\n",
            "Epoch 30/50\n",
            "196/196 [==============================] - 1s 4ms/step - loss: 0.0290 - acc: 0.9895 - val_loss: 0.7580 - val_acc: 0.8929\n",
            "Epoch 31/50\n",
            "196/196 [==============================] - 1s 4ms/step - loss: 0.0287 - acc: 0.9895 - val_loss: 0.7800 - val_acc: 0.8931\n",
            "Epoch 32/50\n",
            "196/196 [==============================] - 1s 4ms/step - loss: 0.0337 - acc: 0.9879 - val_loss: 0.8012 - val_acc: 0.8902\n",
            "Epoch 33/50\n",
            "196/196 [==============================] - 1s 4ms/step - loss: 0.0259 - acc: 0.9906 - val_loss: 0.7655 - val_acc: 0.8933\n",
            "Epoch 34/50\n",
            "196/196 [==============================] - 1s 4ms/step - loss: 0.0259 - acc: 0.9906 - val_loss: 0.7471 - val_acc: 0.8918\n",
            "Epoch 35/50\n",
            "196/196 [==============================] - 1s 4ms/step - loss: 0.0253 - acc: 0.9908 - val_loss: 0.7656 - val_acc: 0.8944\n",
            "Epoch 36/50\n",
            "196/196 [==============================] - 1s 4ms/step - loss: 0.0281 - acc: 0.9899 - val_loss: 0.7422 - val_acc: 0.8935\n",
            "Epoch 37/50\n",
            "196/196 [==============================] - 1s 4ms/step - loss: 0.0149 - acc: 0.9955 - val_loss: 0.7636 - val_acc: 0.8931\n",
            "Epoch 38/50\n",
            "196/196 [==============================] - 1s 4ms/step - loss: 0.0202 - acc: 0.9931 - val_loss: 0.7790 - val_acc: 0.8957\n",
            "Epoch 39/50\n",
            "196/196 [==============================] - 1s 4ms/step - loss: 0.0210 - acc: 0.9922 - val_loss: 0.7718 - val_acc: 0.8915\n",
            "Epoch 40/50\n",
            "196/196 [==============================] - 1s 4ms/step - loss: 0.0295 - acc: 0.9894 - val_loss: 0.8029 - val_acc: 0.8894\n",
            "Epoch 41/50\n",
            "196/196 [==============================] - 1s 4ms/step - loss: 0.0252 - acc: 0.9910 - val_loss: 0.7985 - val_acc: 0.8922\n",
            "Epoch 42/50\n",
            "196/196 [==============================] - 1s 4ms/step - loss: 0.0176 - acc: 0.9940 - val_loss: 0.8035 - val_acc: 0.8937\n",
            "Epoch 43/50\n",
            "196/196 [==============================] - 1s 4ms/step - loss: 0.0188 - acc: 0.9931 - val_loss: 0.8005 - val_acc: 0.8952\n",
            "Epoch 44/50\n",
            "196/196 [==============================] - 1s 4ms/step - loss: 0.0141 - acc: 0.9954 - val_loss: 0.8301 - val_acc: 0.8939\n",
            "Epoch 45/50\n",
            "196/196 [==============================] - 1s 4ms/step - loss: 0.0122 - acc: 0.9960 - val_loss: 0.8240 - val_acc: 0.8946\n",
            "Epoch 46/50\n",
            "196/196 [==============================] - 1s 4ms/step - loss: 0.0298 - acc: 0.9895 - val_loss: 0.8287 - val_acc: 0.8880\n",
            "Epoch 47/50\n",
            "196/196 [==============================] - 1s 4ms/step - loss: 0.0426 - acc: 0.9855 - val_loss: 0.8033 - val_acc: 0.8938\n",
            "Epoch 48/50\n",
            "196/196 [==============================] - 1s 4ms/step - loss: 0.0260 - acc: 0.9909 - val_loss: 0.7780 - val_acc: 0.8960\n",
            "Epoch 49/50\n",
            "196/196 [==============================] - 1s 4ms/step - loss: 0.0166 - acc: 0.9943 - val_loss: 0.7987 - val_acc: 0.8974\n",
            "Epoch 50/50\n",
            "196/196 [==============================] - 1s 4ms/step - loss: 0.0120 - acc: 0.9960 - val_loss: 0.8229 - val_acc: 0.8968\n"
          ]
        }
      ]
    },
    {
      "cell_type": "code",
      "metadata": {
        "colab": {
          "base_uri": "https://localhost:8080/",
          "height": 573
        },
        "id": "hfMeioguDxkB",
        "outputId": "c1430a9e-45a0-41bd-9d73-0be12628d13c"
      },
      "source": [
        "plt.plot(history.history['acc'])\n",
        "plt.plot(history.history['val_acc'])\n",
        "plt.title('model accuracy')\n",
        "plt.ylabel('accuracy')\n",
        "plt.xlabel('epoch')\n",
        "plt.legend(['train', 'val'], loc='upper left')\n",
        "plt.show()\n",
        "# summarize history for loss\n",
        "plt.plot(history.history['loss'])\n",
        "plt.plot(history.history['val_loss'])\n",
        "plt.title('model loss')\n",
        "plt.ylabel('loss')\n",
        "plt.xlabel('epoch')\n",
        "plt.legend(['train', 'val'], loc='upper left')\n",
        "plt.show()"
      ],
      "execution_count": 25,
      "outputs": [
        {
          "output_type": "display_data",
          "data": {
            "image/png": "[encoded data removed]",
            "text/plain": [
              "<Figure size 432x288 with 1 Axes>"
            ]
          },
          "metadata": {
            "needs_background": "light"
          }
        },
        {
          "output_type": "display_data",
          "data": {
            "image/png": "[encoded data removed]",
            "text/plain": [
              "<Figure size 432x288 with 1 Axes>"
            ]
          },
          "metadata": {
            "needs_background": "light"
          }
        }
      ]
    },
    {
      "cell_type": "markdown",
      "metadata": {
        "id": "jrQfWEH3DxkG"
      },
      "source": [
        "The above code block shows a typical training loop. There's actually an easier way to do this using Tenosrflow and Keras, which we'll see in the next prac, but for now we expand it so you can see what's going on.\n",
        "\n",
        "Lets visualise some of the model's prediction on the training set"
      ]
    },
    {
      "cell_type": "markdown",
      "metadata": {
        "id": "CGlo8xJYDxkJ"
      },
      "source": [
        " ### Optional extra reading: Optimisation schemes"
      ]
    },
    {
      "cell_type": "markdown",
      "metadata": {
        "id": "97dXX396DxkK"
      },
      "source": [
        "You might have noticed that we are using the Adam optimizer to train our neural networks. Adam is a variant of stochastic gradient descent which often performs well in practice. In fact, there is a whole range of variations on stochastic gradient descent that are often used. Here is an illustration showing how a few of these methods perform on a toy problem: \n",
        "\n",
        "![optimization methods](http://ruder.io/content/images/2016/09/saddle_point_evaluation_optimizers.gif)\n",
        "\n",
        "For a detailed description of various optimization methods read [this](http://ruder.io/optimizing-gradient-descent/) article. For a great visual discussion on how these methods work see [this](https://distill.pub/2017/momentum/) article."
      ]
    },
    {
      "cell_type": "markdown",
      "metadata": {
        "id": "Du-C5ktMDxkL"
      },
      "source": [
        "## Testing\n",
        "\n",
        "After 50 epochs of training on our training set, we obtain a loss of around 0.061 and accuracy of 97.7%. That's pretty good, right? \n",
        "\n",
        "It is important to distinguish between data that is **in-sample** and **out-of-sample**. Our training data is all in-sample and we would expect any resonably powerful model (like an MLP) to be very accurate and have a low loss on this (in fact, with a sufficiently large MLP and enough training epochs, we can get the loss arbitrarily close to zero!). This is not a good thing though, because pushing the loss close to zero may mean that the model has fit the **noise** in the training data rather than the true signal. If this is the case, it will not perform well on out-of-sample data that it has not seen before (which is what we really care about!). To assess this, we evaluate our trained model on the held-out test set (but we don't update the parameters of the model when testing it, that would be cheating!)"
      ]
    },
    {
      "cell_type": "code",
      "metadata": {
        "id": "3yy2dJWoDxkL"
      },
      "source": [
        "# We need to apply the same pre-processing to the test set as we did to the training set\n",
        "# Since we don't need batching or shuffling, we can do this directly instead of\n",
        "# building a tf.Dataset pipeline\n",
        "\n",
        "tf_test_images = tf.convert_to_tensor(test_images, dtype=tf.float32) / 255.0\n",
        "tf_test_labels = tf.convert_to_tensor(test_labels, dtype=tf.int32)"
      ],
      "execution_count": 26,
      "outputs": []
    },
    {
      "cell_type": "code",
      "metadata": {
        "colab": {
          "base_uri": "https://localhost:8080/"
        },
        "id": "T7WnRsTiDxkN",
        "outputId": "6c2a708c-1f54-4761-965e-9ca50ba1211c"
      },
      "source": [
        "test_logits = model(tf_test_images, training=False)\n",
        "\n",
        "# Compute the average cross-entropy loss of the classification over the entire test set\n",
        "test_loss = tf.keras.metrics.Mean(name='test_loss')\n",
        "t_loss = loss_object(tf_test_labels, test_logits)\n",
        "test_loss(t_loss)\n",
        "\n",
        "# Compare predicted labels to actual labels\n",
        "test_accuracy = tf.keras.metrics.SparseCategoricalAccuracy(name='test_accuracy')\n",
        "test_accuracy(tf_test_labels, test_logits)\n",
        "\n",
        "print('Completed testing on', tf_test_images.shape[0], 'examples...')\n",
        "print('Loss: {:.3f}, Accuracy: {:.3%}'.format(test_loss.result(), test_accuracy.result()))"
      ],
      "execution_count": 27,
      "outputs": [
        {
          "output_type": "stream",
          "name": "stdout",
          "text": [
            "Completed testing on 10000 examples...\n",
            "Loss: 0.909, Accuracy: 89.300%\n"
          ]
        },
        {
          "output_type": "stream",
          "name": "stderr",
          "text": [
            "/usr/local/lib/python3.7/dist-packages/keras/backend.py:4907: UserWarning: \"`sparse_categorical_crossentropy` received `from_logits=True`, but the `output` argument was produced by a sigmoid or softmax activation and thus does not represent logits. Was this intended?\"\n",
            "  '\"`sparse_categorical_crossentropy` received `from_logits=True`, but '\n"
          ]
        }
      ]
    },
    {
      "cell_type": "markdown",
      "metadata": {
        "id": "yY868WQTDxkP"
      },
      "source": [
        "And again we visualise some of the model's predictions:"
      ]
    },
    {
      "cell_type": "code",
      "metadata": {
        "colab": {
          "base_uri": "https://localhost:8080/",
          "height": 729
        },
        "id": "qMlYbWWyDxkQ",
        "outputId": "7f4d2369-fad7-4053-8d21-617b7586717b"
      },
      "source": [
        "test_predictions = tf.argmax(test_logits, axis=1, output_type=tf.int32)\n",
        "\n",
        "plt.figure(figsize=(10,10))\n",
        "for i in range(25):\n",
        "    plt.subplot(5,5,i+1)\n",
        "    plt.xticks([])\n",
        "    plt.yticks([])\n",
        "    plt.grid(False)\n",
        "\n",
        "    img_index = np.random.randint(0, 10000)\n",
        "    plt.imshow(test_images[img_index], cmap=\"gray_r\")\n",
        "\n",
        "    actual_label = int(test_labels[img_index])\n",
        "    predicted_label = int(test_predictions[img_index])\n",
        "\n",
        "    plt.xlabel(\"Actual: {} ({})\\n Predicted: {} ({})\".format(\n",
        "        actual_label, text_labels[actual_label], predicted_label, text_labels[predicted_label]\n",
        "    ))\n",
        "\n",
        "plt.tight_layout()\n",
        "plt.show()"
      ],
      "execution_count": 28,
      "outputs": [
        {
          "output_type": "display_data",
          "data": {
            "image/png": "[encoded data removed]",
            "text/plain": [
              "<Figure size 720x720 with 25 Axes>"
            ]
          },
          "metadata": {}
        }
      ]
    },
    {
      "cell_type": "markdown",
      "metadata": {
        "id": "TphywfV4DxkU"
      },
      "source": [
        "What happened? We got 97.7% accuracy on the training set, but only 88.9% on the test set. This is an example of how a model's in-sample performance differs from its out-of-sample performance. It may even be considered **overfitting** (where the model failing to generalise its in-sample performance to unseen out-of-sample data). There are a number of ways we can address this, but first, it's important to realise that we should try and keep the number of evaluations on the test set to a minimum. \n",
        "\n",
        "\n",
        "The first important method is called **validation**. Using validation, we reserve a portion of our training dataset and call it the validation set. After each epoch of training (or every K epochs where K can be a fraction), we evaluate our model on this validation set (without updating the model parameters). This gives us a good sense of how well we expect our model to do on out-of-sample data. In this way, the validation set acts as a surrogate for the test set which we can safely use during model development and training. We can also use this validation set to tune our model by selecting hyperparameters such as the batch size, sizes of layers or the network architecture. \n"
      ]
    },
    {
      "cell_type": "markdown",
      "metadata": {
        "id": "KMvjNMKkDxkX"
      },
      "source": [
        "### Optional extra reading: Underfitting"
      ]
    },
    {
      "cell_type": "markdown",
      "metadata": {
        "id": "MKq_JYnxDxkZ"
      },
      "source": [
        "In addition to the problem of _overfitting_ (in which the model is too complex and as a result is able to memorize the training data rather than learning a general pattern) there is the problem of _underfitting_ which is the opposite. Underfitting occurs when the model does not have enough complexity (also known as capacity) to learn a general pattern. While overfitting is characterised by diverging test/validation and training scores, underfitting is characterised by test/validation and training scores that very slowly continue to improve. \n",
        "\n",
        "\n",
        "Unlike overfitting which has a number of solutions, such as collecting more data, data augmentation, dropout, and L1/L2 regularization, underfitting has one simple solution: just make your model incrementally more complex until it no longer underfits.\n",
        "\n",
        "![underandoverfitting](https://i.imgur.com/m2bSP1S.png)"
      ]
    }
  ]
}